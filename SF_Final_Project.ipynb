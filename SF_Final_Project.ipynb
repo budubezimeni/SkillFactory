{
  "cells": [
    {
      "cell_type": "markdown",
      "metadata": {
        "id": "view-in-github",
        "colab_type": "text"
      },
      "source": [
        "<a href=\"https://colab.research.google.com/github/budubezimeni/SkillFactory/blob/main/SF_Final_Project.ipynb\" target=\"_parent\"><img src=\"https://colab.research.google.com/assets/colab-badge.svg\" alt=\"Open In Colab\"/></a>"
      ]
    },
    {
      "cell_type": "code",
      "execution_count": null,
      "metadata": {
        "id": "0t_4iGeOkNo6"
      },
      "outputs": [],
      "source": [
        "import pandas as pd\n",
        "import numpy as np\n",
        "import matplotlib.pyplot as plt\n",
        "import json\n",
        "import re"
      ]
    },
    {
      "cell_type": "code",
      "source": [
        "from sklearn.metrics import mean_absolute_error\n",
        "\n",
        "# Нужные функции\n",
        "def mape(y_true, y_pred):\n",
        "    return np.mean(np.abs((y_pred-y_true)/y_true))\n",
        "\n",
        "# Проверка на число\n",
        "def check_numeric(x):\n",
        "    try:\n",
        "        float(x)\n",
        "        return True\n",
        "    except:\n",
        "        return False"
      ],
      "metadata": {
        "id": "T7lSjn6qN4wn"
      },
      "execution_count": 183,
      "outputs": []
    },
    {
      "cell_type": "code",
      "source": [
        "RANDOM_SEED = 42"
      ],
      "metadata": {
        "id": "qiuEJqsxQgNZ"
      },
      "execution_count": null,
      "outputs": []
    },
    {
      "cell_type": "code",
      "execution_count": null,
      "metadata": {
        "colab": {
          "base_uri": "https://localhost:8080/"
        },
        "id": "5SWGt17EncsD",
        "outputId": "ae36663b-e48b-453c-ca77-0c333883cbdb"
      },
      "outputs": [
        {
          "output_type": "stream",
          "name": "stdout",
          "text": [
            "Requirement already satisfied: pandas-profiling in /usr/local/lib/python3.7/dist-packages (3.2.0)\n",
            "Requirement already satisfied: pandas!=1.0.0,!=1.0.1,!=1.0.2,!=1.1.0,>=0.25.3 in /usr/local/lib/python3.7/dist-packages (from pandas-profiling) (1.3.5)\n",
            "Requirement already satisfied: scipy>=1.4.1 in /usr/local/lib/python3.7/dist-packages (from pandas-profiling) (1.7.3)\n",
            "Requirement already satisfied: pydantic>=1.8.1 in /usr/local/lib/python3.7/dist-packages (from pandas-profiling) (1.9.0)\n",
            "Requirement already satisfied: jinja2>=2.11.1 in /usr/local/lib/python3.7/dist-packages (from pandas-profiling) (2.11.3)\n",
            "Requirement already satisfied: markupsafe~=2.1.1 in /usr/local/lib/python3.7/dist-packages (from pandas-profiling) (2.1.1)\n",
            "Requirement already satisfied: tangled-up-in-unicode==0.2.0 in /usr/local/lib/python3.7/dist-packages (from pandas-profiling) (0.2.0)\n",
            "Requirement already satisfied: requests>=2.24.0 in /usr/local/lib/python3.7/dist-packages (from pandas-profiling) (2.27.1)\n",
            "Requirement already satisfied: htmlmin>=0.1.12 in /usr/local/lib/python3.7/dist-packages (from pandas-profiling) (0.1.12)\n",
            "Requirement already satisfied: joblib~=1.1.0 in /usr/local/lib/python3.7/dist-packages (from pandas-profiling) (1.1.0)\n",
            "Requirement already satisfied: tqdm>=4.48.2 in /usr/local/lib/python3.7/dist-packages (from pandas-profiling) (4.64.0)\n",
            "Requirement already satisfied: phik>=0.11.1 in /usr/local/lib/python3.7/dist-packages (from pandas-profiling) (0.12.2)\n",
            "Requirement already satisfied: PyYAML>=5.0.0 in /usr/local/lib/python3.7/dist-packages (from pandas-profiling) (6.0)\n",
            "Requirement already satisfied: matplotlib>=3.2.0 in /usr/local/lib/python3.7/dist-packages (from pandas-profiling) (3.2.2)\n",
            "Requirement already satisfied: missingno>=0.4.2 in /usr/local/lib/python3.7/dist-packages (from pandas-profiling) (0.5.1)\n",
            "Requirement already satisfied: multimethod>=1.4 in /usr/local/lib/python3.7/dist-packages (from pandas-profiling) (1.8)\n",
            "Requirement already satisfied: visions[type_image_path]==0.7.4 in /usr/local/lib/python3.7/dist-packages (from pandas-profiling) (0.7.4)\n",
            "Requirement already satisfied: numpy>=1.16.0 in /usr/local/lib/python3.7/dist-packages (from pandas-profiling) (1.21.6)\n",
            "Requirement already satisfied: seaborn>=0.10.1 in /usr/local/lib/python3.7/dist-packages (from pandas-profiling) (0.11.2)\n",
            "Requirement already satisfied: networkx>=2.4 in /usr/local/lib/python3.7/dist-packages (from visions[type_image_path]==0.7.4->pandas-profiling) (2.6.3)\n",
            "Requirement already satisfied: attrs>=19.3.0 in /usr/local/lib/python3.7/dist-packages (from visions[type_image_path]==0.7.4->pandas-profiling) (21.4.0)\n",
            "Requirement already satisfied: imagehash in /usr/local/lib/python3.7/dist-packages (from visions[type_image_path]==0.7.4->pandas-profiling) (4.2.1)\n",
            "Requirement already satisfied: Pillow in /usr/local/lib/python3.7/dist-packages (from visions[type_image_path]==0.7.4->pandas-profiling) (7.1.2)\n",
            "Requirement already satisfied: cycler>=0.10 in /usr/local/lib/python3.7/dist-packages (from matplotlib>=3.2.0->pandas-profiling) (0.11.0)\n",
            "Requirement already satisfied: pyparsing!=2.0.4,!=2.1.2,!=2.1.6,>=2.0.1 in /usr/local/lib/python3.7/dist-packages (from matplotlib>=3.2.0->pandas-profiling) (3.0.8)\n",
            "Requirement already satisfied: kiwisolver>=1.0.1 in /usr/local/lib/python3.7/dist-packages (from matplotlib>=3.2.0->pandas-profiling) (1.4.2)\n",
            "Requirement already satisfied: python-dateutil>=2.1 in /usr/local/lib/python3.7/dist-packages (from matplotlib>=3.2.0->pandas-profiling) (2.8.2)\n",
            "Requirement already satisfied: typing-extensions in /usr/local/lib/python3.7/dist-packages (from kiwisolver>=1.0.1->matplotlib>=3.2.0->pandas-profiling) (4.2.0)\n",
            "Requirement already satisfied: pytz>=2017.3 in /usr/local/lib/python3.7/dist-packages (from pandas!=1.0.0,!=1.0.1,!=1.0.2,!=1.1.0,>=0.25.3->pandas-profiling) (2022.1)\n",
            "Requirement already satisfied: six>=1.5 in /usr/local/lib/python3.7/dist-packages (from python-dateutil>=2.1->matplotlib>=3.2.0->pandas-profiling) (1.15.0)\n",
            "Requirement already satisfied: idna<4,>=2.5 in /usr/local/lib/python3.7/dist-packages (from requests>=2.24.0->pandas-profiling) (2.10)\n",
            "Requirement already satisfied: urllib3<1.27,>=1.21.1 in /usr/local/lib/python3.7/dist-packages (from requests>=2.24.0->pandas-profiling) (1.24.3)\n",
            "Requirement already satisfied: charset-normalizer~=2.0.0 in /usr/local/lib/python3.7/dist-packages (from requests>=2.24.0->pandas-profiling) (2.0.12)\n",
            "Requirement already satisfied: certifi>=2017.4.17 in /usr/local/lib/python3.7/dist-packages (from requests>=2.24.0->pandas-profiling) (2021.10.8)\n",
            "Requirement already satisfied: PyWavelets in /usr/local/lib/python3.7/dist-packages (from imagehash->visions[type_image_path]==0.7.4->pandas-profiling) (1.3.0)\n"
          ]
        }
      ],
      "source": [
        "!pip install -U pandas-profiling"
      ]
    },
    {
      "cell_type": "code",
      "execution_count": null,
      "metadata": {
        "id": "lfqx4vaNn9Oo"
      },
      "outputs": [],
      "source": [
        "import pandas_profiling"
      ]
    },
    {
      "cell_type": "code",
      "execution_count": null,
      "metadata": {
        "colab": {
          "base_uri": "https://localhost:8080/"
        },
        "id": "lgQBKG1XlbQt",
        "outputId": "1892be15-5f63-4f5f-876d-405ebacda589"
      },
      "outputs": [
        {
          "output_type": "stream",
          "name": "stderr",
          "text": [
            "/usr/local/lib/python3.7/dist-packages/IPython/core/interactiveshell.py:2882: FutureWarning: The error_bad_lines argument has been deprecated and will be removed in a future version.\n",
            "\n",
            "\n",
            "  exec(code_obj, self.user_global_ns, self.user_ns)\n"
          ]
        }
      ],
      "source": [
        "df = pd.read_csv('/content/data.csv', engine='python', encoding='utf-8', error_bad_lines=False)"
      ]
    },
    {
      "cell_type": "code",
      "execution_count": null,
      "metadata": {
        "colab": {
          "base_uri": "https://localhost:8080/"
        },
        "id": "8MbxxaU6mr3s",
        "outputId": "78064146-f107-481a-a61e-57852143c33e"
      },
      "outputs": [
        {
          "output_type": "stream",
          "name": "stdout",
          "text": [
            "<class 'pandas.core.frame.DataFrame'>\n",
            "RangeIndex: 377185 entries, 0 to 377184\n",
            "Data columns (total 18 columns):\n",
            " #   Column        Non-Null Count   Dtype \n",
            "---  ------        --------------   ----- \n",
            " 0   status        337267 non-null  object\n",
            " 1   private pool  4181 non-null    object\n",
            " 2   propertyType  342452 non-null  object\n",
            " 3   street        377183 non-null  object\n",
            " 4   baths         270847 non-null  object\n",
            " 5   homeFacts     377185 non-null  object\n",
            " 6   fireplace     103115 non-null  object\n",
            " 7   city          377151 non-null  object\n",
            " 8   schools       377185 non-null  object\n",
            " 9   sqft          336608 non-null  object\n",
            " 10  zipcode       377185 non-null  object\n",
            " 11  beds          285903 non-null  object\n",
            " 12  state         377185 non-null  object\n",
            " 13  stories       226470 non-null  object\n",
            " 14  mls-id        24942 non-null   object\n",
            " 15  PrivatePool   40311 non-null   object\n",
            " 16  MlsId         310305 non-null  object\n",
            " 17  target        374704 non-null  object\n",
            "dtypes: object(18)\n",
            "memory usage: 51.8+ MB\n"
          ]
        }
      ],
      "source": [
        "df.info()"
      ]
    },
    {
      "cell_type": "code",
      "execution_count": null,
      "metadata": {
        "id": "Q_hTRbLom3AB"
      },
      "outputs": [],
      "source": [
        "profile = pandas_profiling.ProfileReport(df)\n"
      ]
    },
    {
      "cell_type": "code",
      "execution_count": null,
      "metadata": {
        "id": "bBl8ihXVoGoO"
      },
      "outputs": [],
      "source": [
        "profile"
      ]
    },
    {
      "cell_type": "markdown",
      "metadata": {
        "id": "oiTqFxVZH-4s"
      },
      "source": [
        "# **Начинаем обработку столбцов**"
      ]
    },
    {
      "cell_type": "code",
      "execution_count": null,
      "metadata": {
        "id": "KJSkryQKuusc"
      },
      "outputs": [],
      "source": [
        "pd.set_option('display.max_columns', None)\n",
        "pd.set_option('display.max_rows', None)"
      ]
    },
    {
      "cell_type": "code",
      "execution_count": null,
      "metadata": {
        "id": "JwFDrlr6vBnP"
      },
      "outputs": [],
      "source": [
        "# Разделяем столбцы на числовые, бинарные, категориальные\n",
        "bin_cols = []\n",
        "cat_cols = []\n",
        "num_cols = []"
      ]
    },
    {
      "cell_type": "markdown",
      "metadata": {
        "id": "LHYJ-eHS69eq"
      },
      "source": [
        "Удалим все строки с отсутствуюшим **target**"
      ]
    },
    {
      "cell_type": "code",
      "execution_count": null,
      "metadata": {
        "id": "FlN53rkf69vK"
      },
      "outputs": [],
      "source": [
        "df.drop(df[df.target.isnull()].index, inplace=True)"
      ]
    },
    {
      "cell_type": "code",
      "source": [
        "df.target = df.target.replace('[^\\d.]','',regex=True)\n",
        "df.target = df.target.apply(lambda x: float(x) if check_numeric(x) else 0)"
      ],
      "metadata": {
        "id": "Zbc_5qCdcIB0"
      },
      "execution_count": 62,
      "outputs": []
    },
    {
      "cell_type": "markdown",
      "metadata": {
        "id": "BEiE-bhLI36X"
      },
      "source": [
        "**status**\n",
        "Столбец имеет пропуски и большое количество уникальных значений"
      ]
    },
    {
      "cell_type": "code",
      "execution_count": null,
      "metadata": {
        "id": "dRnscao9GotJ"
      },
      "outputs": [],
      "source": [
        "# Приводим к нижнему регистру\n",
        "df.status = df.status.str.lower()"
      ]
    },
    {
      "cell_type": "code",
      "execution_count": null,
      "metadata": {
        "id": "_NOIO7KnCwNq"
      },
      "outputs": [],
      "source": [
        "# Заменяем очевидные значения\n",
        "status_dict = {'p': 'pending', ' / auction': 'auction', 'a active': 'active', 'under contract show': 'under contract   showing'}\n",
        "df.status = df.status.replace(status_dict)"
      ]
    },
    {
      "cell_type": "code",
      "execution_count": null,
      "metadata": {
        "id": "mbfsdcrRFaxI"
      },
      "outputs": [],
      "source": [
        "status_array = df.status.value_counts()"
      ]
    },
    {
      "cell_type": "code",
      "execution_count": null,
      "metadata": {
        "id": "yJWXhv31Ffni"
      },
      "outputs": [],
      "source": [
        "# Заменяем редкие значения на other\n",
        "for status_value in status_array.items():\n",
        "  if status_value[1] < 100:\n",
        "    df.status = df.status.replace({status_value[0]: 'other'})"
      ]
    },
    {
      "cell_type": "code",
      "execution_count": null,
      "metadata": {
        "id": "Ft_Ss70cG2RE"
      },
      "outputs": [],
      "source": [
        "# Заполняем пропуски\n",
        "df.status = df.status.fillna('other')"
      ]
    },
    {
      "cell_type": "code",
      "execution_count": null,
      "metadata": {
        "id": "AOhIjtvTvPXP"
      },
      "outputs": [],
      "source": [
        "cat_cols.append('status')"
      ]
    },
    {
      "cell_type": "markdown",
      "metadata": {
        "id": "-CKfzF3m1Wkt"
      },
      "source": [
        "Объединяем столбцы **private pool** и **PrivatePool** в столбец **PrivatePool_combined**"
      ]
    },
    {
      "cell_type": "code",
      "execution_count": null,
      "metadata": {
        "id": "ljjfU6OO1W4a"
      },
      "outputs": [],
      "source": [
        "df['PrivatePool_combined'] = df.apply (lambda row: (row['PrivatePool']=='Yes') | (row['PrivatePool']=='yes') | (row['private pool']=='Yes'), axis=1)"
      ]
    },
    {
      "cell_type": "code",
      "execution_count": null,
      "metadata": {
        "colab": {
          "base_uri": "https://localhost:8080/"
        },
        "id": "HHjImyFC3ixd",
        "outputId": "a1888b59-cc51-4e9c-f6ac-9969fba98a3f"
      },
      "outputs": [
        {
          "output_type": "stream",
          "name": "stderr",
          "text": [
            "/usr/local/lib/python3.7/dist-packages/ipykernel_launcher.py:1: FutureWarning: In a future version of pandas all arguments of DataFrame.drop except for the argument 'labels' will be keyword-only\n",
            "  \"\"\"Entry point for launching an IPython kernel.\n"
          ]
        }
      ],
      "source": [
        "df = df.drop(['PrivatePool', 'private pool'], 1)"
      ]
    },
    {
      "cell_type": "code",
      "execution_count": null,
      "metadata": {
        "id": "OUhADsbb-MJk"
      },
      "outputs": [],
      "source": [
        "bin_cols.append('PrivatePool_combined')"
      ]
    },
    {
      "cell_type": "markdown",
      "metadata": {
        "id": "OXRpSuPtuz2b"
      },
      "source": [
        "**city** столбец имеет пропуски"
      ]
    },
    {
      "cell_type": "code",
      "execution_count": null,
      "metadata": {
        "id": "AAVooFfwocsZ"
      },
      "outputs": [],
      "source": [
        "# Заполняем пропущенные города по индексу\n",
        "for row in df[df.city.isnull()].zipcode.items():\n",
        "  df.loc[df.index == row[0], 'city'] = df[df.zipcode==row[1]].city.value_counts().reset_index()['index'][0]"
      ]
    },
    {
      "cell_type": "markdown",
      "metadata": {
        "id": "V_JieDl7_Dbf"
      },
      "source": [
        "**propertyType** имеет пропуски"
      ]
    },
    {
      "cell_type": "code",
      "execution_count": null,
      "metadata": {
        "id": "E8BQmVr5ADlJ"
      },
      "outputs": [],
      "source": [
        "# Приводим к нижнему регистру\n",
        "df.propertyType = df.propertyType.str.lower()"
      ]
    },
    {
      "cell_type": "code",
      "execution_count": null,
      "metadata": {
        "id": "dW-8Xm6eBqcA"
      },
      "outputs": [],
      "source": [
        "# Заполняем пропуски\n",
        "df.propertyType = df.propertyType.fillna('other')"
      ]
    },
    {
      "cell_type": "code",
      "execution_count": null,
      "metadata": {
        "id": "Ou9Hguw5GOOk"
      },
      "outputs": [],
      "source": [
        "# Нормализуем популярные значения\n",
        "df.loc[df['propertyType'].str.contains(r'^(?=.*single)(?=.*family)'), 'propertyType'] = 'single family'\n",
        "df.loc[df['propertyType'].str.contains(r'^(?=.*multi)(?=.*family)'), 'propertyType'] = 'multi family'\n",
        "df.loc[df['propertyType'].str.contains(r'^(?=.*condo)'), 'propertyType'] = 'condo'\n",
        "df.loc[df['propertyType'].str.contains(r'^(?=.*mobile)'), 'propertyType'] = 'mobile'\n",
        "df.loc[df['propertyType'].str.contains('1 story|one story'), 'propertyType'] = 'one story'\n",
        "df.loc[df['propertyType'].str.contains('2 stor|two stor'), 'propertyType'] = 'two story'"
      ]
    },
    {
      "cell_type": "code",
      "execution_count": null,
      "metadata": {
        "id": "3XgtBkT7J1Mv"
      },
      "outputs": [],
      "source": [
        "# Заменяем редкие значения на other\n",
        "propertyType_array = df.propertyType.value_counts()\n",
        "for propertyType_value in propertyType_array.items():\n",
        "  if propertyType_value[1] < 100:\n",
        "    df.propertyType = df.propertyType.replace({propertyType_value[0]: 'other'})"
      ]
    },
    {
      "cell_type": "code",
      "execution_count": null,
      "metadata": {
        "id": "4kVq5-Ej_Dkk"
      },
      "outputs": [],
      "source": [
        "cat_cols.append('propertyType')"
      ]
    },
    {
      "cell_type": "markdown",
      "metadata": {
        "id": "UzRdt4z3dPWC"
      },
      "source": [
        "**street** имеет пропущенные значения и много уникальных"
      ]
    },
    {
      "cell_type": "code",
      "execution_count": null,
      "metadata": {
        "id": "wFp_X29tfD0g"
      },
      "outputs": [],
      "source": [
        "# Приводим к нижнему регистру\n",
        "df.street = df.street.str.lower()"
      ]
    },
    {
      "cell_type": "code",
      "execution_count": null,
      "metadata": {
        "id": "HT2w4q5jfD4S"
      },
      "outputs": [],
      "source": [
        "# Заполняем пропуски\n",
        "df.street = df.street.fillna('unknown')"
      ]
    },
    {
      "cell_type": "code",
      "execution_count": null,
      "metadata": {
        "id": "v6zKAEQnevOp"
      },
      "outputs": [],
      "source": [
        "df.loc[df['street'].str.contains(' st| street'), 'street'] = 'street'\n",
        "df.loc[df['street'].str.contains(' dr| drive'), 'street'] = 'drive'\n",
        "df.loc[df['street'].str.contains(' ave| avenue'), 'street'] = 'avenue'\n",
        "df.loc[df['street'].str.contains(' blvd| boulevard'), 'street'] = 'boulevard'\n",
        "df.loc[df['street'].str.contains(' pl| place'), 'street'] = 'place'\n",
        "df.loc[df['street'].str.contains(' rd| road'), 'street'] = 'road'\n",
        "df.loc[df['street'].str.contains(' ln| lane'), 'street'] = 'lane'\n",
        "df.loc[df['street'].str.contains(' cir| circus'), 'street'] = 'circus'\n",
        "df.loc[df['street'].str.contains(' ct| court'), 'street'] = 'court'\n",
        "df.loc[df['street'].str.contains(' hwy| highway'), 'street'] = 'highway'\n",
        "df.loc[df['street'].str.contains(' way'), 'street'] = 'way'\n",
        "df.loc[df['street'].str.contains(' sq| square'), 'street'] = 'square'\n",
        "df.loc[df['street'].str.contains(' end'), 'street'] = 'end'\n",
        "df.loc[df['street'].str.contains(' trl| trail'), 'street'] = 'trail'\n",
        "df.loc[df['street'].str.contains(' ter'), 'street'] = 'territory'\n",
        "df.loc[df['street'].str.contains(' pkwy'), 'street'] = 'parkway'\n",
        "df.loc[df['street'].str.contains(' lane'), 'street'] = 'lane'\n",
        "df.loc[df['street'].str.contains(' pass'), 'street'] = 'pass'"
      ]
    },
    {
      "cell_type": "code",
      "execution_count": null,
      "metadata": {
        "id": "dczU5ujFiy7b"
      },
      "outputs": [],
      "source": [
        "# Заменяем редкие значения на other\n",
        "street_array = df.street.value_counts()\n",
        "for street_value in street_array.items():\n",
        "  if street_value[1] < 1000:\n",
        "    df.street = df.street.replace({street_value[0]: 'other'})"
      ]
    },
    {
      "cell_type": "code",
      "execution_count": null,
      "metadata": {
        "id": "IjVUQNxMdPik"
      },
      "outputs": [],
      "source": [
        "cat_cols.append('street')"
      ]
    },
    {
      "cell_type": "markdown",
      "metadata": {
        "id": "1gs8XNbrpKZi"
      },
      "source": [
        "**baths** имеет пропуски и смешанные значения"
      ]
    },
    {
      "cell_type": "code",
      "execution_count": null,
      "metadata": {
        "id": "pGgR_CIlvA8L"
      },
      "outputs": [],
      "source": [
        "# Выделим цифровое значение из строки\n",
        "df.baths = df.baths.replace('\\+','',regex=True)\n",
        "df.baths = df.baths.replace('[^\\d.-]','',regex=True)\n",
        "df.baths = df.baths.apply(lambda x: float(x) if check_numeric(x) else 0)"
      ]
    },
    {
      "cell_type": "code",
      "execution_count": null,
      "metadata": {
        "id": "k6Gu1QRcInWz"
      },
      "outputs": [],
      "source": [
        "# Нормализуем выбивающиеся значения\n",
        "df.baths = df.baths.apply(lambda x: x/1000 if x>100 else x)"
      ]
    },
    {
      "cell_type": "code",
      "execution_count": null,
      "metadata": {
        "id": "iu5Bnth8GnYf"
      },
      "outputs": [],
      "source": [
        "# Заполним пропуски медианой\n",
        "df.baths = df.baths.fillna(df.baths.median())"
      ]
    },
    {
      "cell_type": "code",
      "execution_count": null,
      "metadata": {
        "id": "q4OvQ7DEpUYi"
      },
      "outputs": [],
      "source": [
        "num_cols.append('baths')"
      ]
    },
    {
      "cell_type": "markdown",
      "metadata": {
        "id": "pHB--JR9bwat"
      },
      "source": [
        "**fireplace** имеет пропуски и неоднородные значения. Имеет смысл разбить на наличие/отсутствие"
      ]
    },
    {
      "cell_type": "code",
      "execution_count": null,
      "metadata": {
        "id": "W2omIf_rbwwB"
      },
      "outputs": [],
      "source": [
        "df.fireplace = df.fireplace.apply(lambda x: False if pd.isnull(x) else True)"
      ]
    },
    {
      "cell_type": "code",
      "execution_count": null,
      "metadata": {
        "id": "UnDuQNf2bxKS"
      },
      "outputs": [],
      "source": [
        "bin_cols.append('fireplace')"
      ]
    },
    {
      "cell_type": "markdown",
      "metadata": {
        "id": "3q-sUDZhm766"
      },
      "source": [
        "**sqft** выделим числовое занчение и заполним пропуски 0"
      ]
    },
    {
      "cell_type": "code",
      "execution_count": null,
      "metadata": {
        "id": "yNuzcdD1tkgY"
      },
      "outputs": [],
      "source": [
        "df.sqft = df.sqft.replace('[^\\d.]','',regex=True)"
      ]
    },
    {
      "cell_type": "code",
      "execution_count": null,
      "metadata": {
        "id": "MWhmQUglykUy"
      },
      "outputs": [],
      "source": [
        "df.sqft = df.sqft.apply(lambda x: float(x) if check_numeric(x) else 0)"
      ]
    },
    {
      "cell_type": "code",
      "execution_count": null,
      "metadata": {
        "id": "hBKS-tZ0_VVQ"
      },
      "outputs": [],
      "source": [
        "df.sqft = df.sqft.fillna(0)"
      ]
    },
    {
      "cell_type": "code",
      "source": [
        "num_cols.append('sqft')"
      ],
      "metadata": {
        "id": "0tEs51dSb0gb"
      },
      "execution_count": null,
      "outputs": []
    },
    {
      "cell_type": "markdown",
      "source": [
        "**zipcode** индекс, не имеет пропусков"
      ],
      "metadata": {
        "id": "2TuZ0V_QdDwS"
      }
    },
    {
      "cell_type": "code",
      "source": [
        "cat_cols.append('zipcode')"
      ],
      "metadata": {
        "id": "kWRpXV6UdAj7"
      },
      "execution_count": null,
      "outputs": []
    },
    {
      "cell_type": "markdown",
      "metadata": {
        "id": "Rl5tl0l8nH1g"
      },
      "source": [
        "**homeFacts** не имеет  пропусков, и имеет одинаковое кол-во фактов, так что разобьем на отдельные признаки"
      ]
    },
    {
      "cell_type": "code",
      "execution_count": null,
      "metadata": {
        "id": "9FFk5MEwF5g9"
      },
      "outputs": [],
      "source": [
        "def jsonHomeFacts(strFacts, idx):\n",
        "  match = re.findall(r\"{.+}\", strFacts)\n",
        "  if match:\n",
        "    dict1 = eval(match[0]).get('atAGlanceFacts')\n",
        "    json1 = json.dumps(dict1)\n",
        "    res1 = json.loads(json1)\n",
        "    dictVal = pd.json_normalize(res1)\n",
        "    return dictVal['factValue'][idx]"
      ]
    },
    {
      "cell_type": "code",
      "execution_count": null,
      "metadata": {
        "id": "_bGuZqs7Fp9t"
      },
      "outputs": [],
      "source": [
        "# На основе этих данных можно будет сделать дополнительный признак Отопления или валидацию площади дома\n",
        "# for i in range(0,6):\n",
        "#   df['homeFacts_' + str(i)] = df.homeFacts.apply(lambda x: jsonHomeFacts(x, i))"
      ]
    },
    {
      "cell_type": "markdown",
      "metadata": {
        "id": "i-abM-1CkK8U"
      },
      "source": [
        "**schools** json данные без пропусков. Выделим новые признаки"
      ]
    },
    {
      "cell_type": "code",
      "execution_count": null,
      "metadata": {
        "id": "WbqZGFlxunQo"
      },
      "outputs": [],
      "source": [
        "# Проверка на целое число\n",
        "def check_int(x):\n",
        "    try:\n",
        "        int(x)\n",
        "        return True\n",
        "    except:\n",
        "        return False"
      ]
    },
    {
      "cell_type": "code",
      "execution_count": null,
      "metadata": {
        "id": "4w_YPU1Ps6GD"
      },
      "outputs": [],
      "source": [
        "def schoolsMaxRating(x):\n",
        "  jsonSchools = json.dumps(eval(x))\n",
        "  dataSchools = json.loads(jsonSchools)\n",
        "  dictVal = pd.json_normalize(dataSchools)\n",
        "  max_rating = 0\n",
        "  for rating in dictVal['rating'].array[0]:\n",
        "    if rating.find('/') == 1:\n",
        "      rating = rating.split('/')[0]\n",
        "    if check_int(rating):\n",
        "      if int(rating) > max_rating:\n",
        "        max_rating = int(rating)\n",
        "    \n",
        "  return max_rating"
      ]
    },
    {
      "cell_type": "code",
      "execution_count": null,
      "metadata": {
        "id": "SPPKXSSxv2Yb"
      },
      "outputs": [],
      "source": [
        "df['schools_max_rating'] = df.schools.apply(lambda x: schoolsMaxRating(x))"
      ]
    },
    {
      "cell_type": "code",
      "source": [
        "num_cols.append('schools_max_rating')"
      ],
      "metadata": {
        "id": "AUUgsT6EMmTC"
      },
      "execution_count": null,
      "outputs": []
    },
    {
      "cell_type": "code",
      "execution_count": null,
      "metadata": {
        "id": "pclCJrn7kohY"
      },
      "outputs": [],
      "source": [
        "def schoolsCount(x):\n",
        "  jsonSchools = json.dumps(eval(x))\n",
        "  dataSchools = json.loads(jsonSchools)\n",
        "  dictVal = pd.json_normalize(dataSchools)\n",
        "  return len(dictVal['rating'].array[0])"
      ]
    },
    {
      "cell_type": "code",
      "execution_count": null,
      "metadata": {
        "id": "xV63ekrfkWqy"
      },
      "outputs": [],
      "source": [
        "df['schools_cnt'] = df.schools.apply(lambda x: schoolsCount(x))"
      ]
    },
    {
      "cell_type": "code",
      "execution_count": null,
      "metadata": {
        "id": "__kjkOlwdFfT"
      },
      "outputs": [],
      "source": [
        "df['schools_cnt'] = df['schools_cnt'].apply(lambda x: x if x<10 else 10)"
      ]
    },
    {
      "cell_type": "code",
      "source": [
        "num_cols.append('schools_cnt')"
      ],
      "metadata": {
        "id": "UMI06GBhMkHn"
      },
      "execution_count": null,
      "outputs": []
    },
    {
      "cell_type": "code",
      "execution_count": null,
      "metadata": {
        "id": "m1WB6mepRinY"
      },
      "outputs": [],
      "source": [
        "def schoolsMinDistance(x):\n",
        "  jsonSchools = json.dumps(eval(x))\n",
        "  dataSchools = json.loads(jsonSchools)\n",
        "  dictVal = pd.json_normalize(dataSchools)\n",
        "  min_distance = 0\n",
        "  for distance in dictVal['data.Distance'].array[0]:\n",
        "    distance = re.sub(r\"[^\\d.]\", \"\", distance)\n",
        "    if check_numeric(distance):\n",
        "      if (float(distance) < min_distance) | (min_distance == 0):\n",
        "        min_distance = float(distance)\n",
        "  return min_distance"
      ]
    },
    {
      "cell_type": "code",
      "execution_count": null,
      "metadata": {
        "id": "A9t-kjCYRjTx"
      },
      "outputs": [],
      "source": [
        "df['schools_min_distance'] = df.schools.apply(lambda x: schoolsMinDistance(x))"
      ]
    },
    {
      "cell_type": "code",
      "execution_count": null,
      "metadata": {
        "id": "NenI5auQda0Y"
      },
      "outputs": [],
      "source": [
        "df['schools_min_distance'] = df['schools_min_distance'].apply(lambda x: round(x,0))"
      ]
    },
    {
      "cell_type": "code",
      "execution_count": null,
      "metadata": {
        "id": "a1ufBSdmgICo"
      },
      "outputs": [],
      "source": [
        "df['schools_min_distance'] = df['schools_min_distance'].apply(lambda x: 10 if x>9 else x)"
      ]
    },
    {
      "cell_type": "code",
      "source": [
        "num_cols.append('schools_min_distance')"
      ],
      "metadata": {
        "id": "aOBjDpT1MfbW"
      },
      "execution_count": null,
      "outputs": []
    },
    {
      "cell_type": "markdown",
      "metadata": {
        "id": "cfcoP6aKnaVs"
      },
      "source": [
        "**city** и **state** будут коррелировать с zipcode, но иметь меньшую информативность в виду точности позиционирования.\n",
        "\n",
        "**stories** имеет много пропусков и частично имеется в **propertyType**\n",
        "\n",
        "**MlsId и mls_id** код агента, много уникальных значений, не несущих информации.\n",
        "\n",
        "**Удалим их**"
      ]
    },
    {
      "cell_type": "code",
      "execution_count": null,
      "metadata": {
        "id": "9RAHTGbrnlyn"
      },
      "outputs": [],
      "source": [
        "df.drop(['city', 'state', 'stories', 'MlsId', 'mls-id'], axis=1, inplace=True)"
      ]
    },
    {
      "cell_type": "code",
      "source": [
        "df.drop(['homeFacts', 'schools'], axis=1, inplace=True)"
      ],
      "metadata": {
        "id": "fogVgVBacjFu"
      },
      "execution_count": null,
      "outputs": []
    },
    {
      "cell_type": "markdown",
      "source": [
        "**beds** кол-во спален, выделим число из наиболее популярных вариантов, остальные заменим медианой"
      ],
      "metadata": {
        "id": "pNPGv6FGvVAx"
      }
    },
    {
      "cell_type": "code",
      "source": [
        "# Заменяем редкие значения на 0\n",
        "beds_array = df.beds.value_counts()\n",
        "for beds_value in beds_array.items():\n",
        "  if beds_value[1] < 1000:\n",
        "    df.beds = df.beds.replace({beds_value[0]: '0.0'})"
      ],
      "metadata": {
        "id": "-48BUsknv0pd"
      },
      "execution_count": null,
      "outputs": []
    },
    {
      "cell_type": "code",
      "source": [
        "def bedsValue(x):\n",
        "  bedsCount = re.sub(r\"[^\\d.]\", \"\", x)\n",
        "  if check_numeric(bedsCount):\n",
        "    return float(bedsCount)\n",
        "  return 0.0"
      ],
      "metadata": {
        "id": "glFWh4LkHV5F"
      },
      "execution_count": null,
      "outputs": []
    },
    {
      "cell_type": "code",
      "source": [
        "df.beds = df.beds.fillna('0.0')"
      ],
      "metadata": {
        "id": "swU6UqLtIA03"
      },
      "execution_count": null,
      "outputs": []
    },
    {
      "cell_type": "code",
      "source": [
        "df['beds'] = df.beds.apply(lambda x: bedsValue(x))"
      ],
      "metadata": {
        "id": "wMHicBhdHWaM"
      },
      "execution_count": null,
      "outputs": []
    },
    {
      "cell_type": "code",
      "source": [
        "df.beds = df.beds.replace({0.0: df['beds'].median()})"
      ],
      "metadata": {
        "id": "26urzXqxLIgB"
      },
      "execution_count": null,
      "outputs": []
    },
    {
      "cell_type": "code",
      "source": [
        "num_cols.append('beds')"
      ],
      "metadata": {
        "id": "XNrNlWakMcJ0"
      },
      "execution_count": null,
      "outputs": []
    },
    {
      "cell_type": "markdown",
      "source": [
        "Добавим признак цены за кв фут **price_per_sqft**"
      ],
      "metadata": {
        "id": "D5Xxifubjp0P"
      }
    },
    {
      "cell_type": "code",
      "source": [
        "df['price_per_sqft'] = df['target']/df.sqft"
      ],
      "metadata": {
        "id": "-idQbuUFiSwI"
      },
      "execution_count": null,
      "outputs": []
    },
    {
      "cell_type": "code",
      "source": [
        "df['price_per_sqft'] = df['price_per_sqft'].replace([np.inf, -np.inf], 0)"
      ],
      "metadata": {
        "id": "3gYVsr5JmRnZ"
      },
      "execution_count": null,
      "outputs": []
    },
    {
      "cell_type": "code",
      "source": [
        "num_cols.append('price_per_sqft')"
      ],
      "metadata": {
        "id": "hUOLew3ajnr6"
      },
      "execution_count": null,
      "outputs": []
    },
    {
      "cell_type": "code",
      "source": [
        "df['price_per_sqft'].quantile(.9)"
      ],
      "metadata": {
        "colab": {
          "base_uri": "https://localhost:8080/"
        },
        "id": "X_KbmKcXjZGD",
        "outputId": "80175b5e-acc8-4527-f735-054240d88819"
      },
      "execution_count": null,
      "outputs": [
        {
          "output_type": "execute_result",
          "data": {
            "text/plain": [
              "483.8095622713206"
            ]
          },
          "metadata": {},
          "execution_count": 250
        }
      ]
    },
    {
      "cell_type": "markdown",
      "source": [
        "Заменим значение индекса на классификацию индекса по средней цене недвижимости **zipcode**"
      ],
      "metadata": {
        "id": "Iky1968CeRG7"
      }
    },
    {
      "cell_type": "code",
      "source": [
        "zipcode_avg_value = df.loc[(df.price_per_sqft>0), 'price_per_sqft'].quantile(0.5)\n",
        "zipcode_expensive_value = df.loc[(df.price_per_sqft>0), 'price_per_sqft'].quantile(0.9)"
      ],
      "metadata": {
        "id": "it_IoyZkeRPo"
      },
      "execution_count": 76,
      "outputs": []
    },
    {
      "cell_type": "code",
      "source": [
        "def getZipcodeCluster(x):\n",
        "  if df.loc[(df.zipcode == x)&(df.price_per_sqft>0), 'price_per_sqft'].mean() < zipcode_avg_value:\n",
        "    return 'cheap'\n",
        "  elif df.loc[(df.zipcode == x)&(df.price_per_sqft>0), 'price_per_sqft'].mean() > zipcode_expensive_value:\n",
        "    return 'very_expensive'\n",
        "  else:\n",
        "    return 'expensive'"
      ],
      "metadata": {
        "id": "g5GZS127ib3c"
      },
      "execution_count": 84,
      "outputs": []
    },
    {
      "cell_type": "code",
      "source": [
        "zipcode_array = df.zipcode.value_counts()\n",
        "for zipcode_value in zipcode_array.items():\n",
        "  df.zipcode = df.zipcode.replace({zipcode_value[0]: getZipcodeCluster(zipcode_value[0])})"
      ],
      "metadata": {
        "id": "E8CshHzYiye9"
      },
      "execution_count": 88,
      "outputs": []
    },
    {
      "cell_type": "code",
      "source": [
        "cat_cols.append('zipcode')"
      ],
      "metadata": {
        "id": "X0P4MZ50emVQ"
      },
      "execution_count": 93,
      "outputs": []
    },
    {
      "cell_type": "code",
      "source": [
        "# Загружаем из файла чтобы не проводить предобработку\n",
        "# df = pd.read_csv('/content/data_cleaned2.csv', engine='python', encoding='utf-8', error_bad_lines=False)\n",
        "# df.columns.values[0] = 'id'\n",
        "# df.drop(['id'], axis=1, inplace=True) \n",
        "# cat_cols = ['status', 'propertyType', 'street', 'zipcode']\n",
        "# num_cols = ['baths',\n",
        "#  'sqft',\n",
        "#  'schools_max_rating',\n",
        "#  'schools_cnt',\n",
        "#  'schools_min_distance',\n",
        "#  'beds',\n",
        "#  'price_per_sqft']\n",
        "# bin_cols = ['PrivatePool_combined', 'fireplace']"
      ],
      "metadata": {
        "colab": {
          "base_uri": "https://localhost:8080/"
        },
        "id": "vuLtoow1hYgO",
        "outputId": "db8df769-2e10-419d-9052-9f0a0bb6e644"
      },
      "execution_count": 73,
      "outputs": [
        {
          "output_type": "stream",
          "name": "stderr",
          "text": [
            "/usr/local/lib/python3.7/dist-packages/IPython/core/interactiveshell.py:2882: FutureWarning: The error_bad_lines argument has been deprecated and will be removed in a future version.\n",
            "\n",
            "\n",
            "  exec(code_obj, self.user_global_ns, self.user_ns)\n"
          ]
        }
      ]
    },
    {
      "cell_type": "markdown",
      "source": [
        "# **CatboostRegressor**"
      ],
      "metadata": {
        "id": "86Pzgj4uSLvP"
      }
    },
    {
      "cell_type": "code",
      "source": [
        "train, validate, test = np.split(df, [int(.7*len(df)), int(.85*len(df))])"
      ],
      "metadata": {
        "id": "IQcXXfkANp3v"
      },
      "execution_count": null,
      "outputs": []
    },
    {
      "cell_type": "code",
      "source": [
        "train.loc[train.baths>10, 'baths'] = 10\n",
        "max_sqft = train.sqft.quantile(0.999)\n",
        "train.loc[train.sqft>max_sqft, 'sqft'] = max_sqft"
      ],
      "metadata": {
        "id": "zyNJet-TNrtC"
      },
      "execution_count": null,
      "outputs": []
    },
    {
      "cell_type": "code",
      "source": [
        "y_train = train.target\n",
        "train.drop(['target'], axis=1, inplace=True)\n",
        "X_train = train\n",
        "y_test = test.target\n",
        "test.drop(['target'], axis=1, inplace=True)\n",
        "X_test = test\n",
        "y_val = validate.target\n",
        "validate.drop(['target'], axis=1, inplace=True)\n",
        "X_val = validate"
      ],
      "metadata": {
        "id": "0dV7FsmhNu-H"
      },
      "execution_count": null,
      "outputs": []
    },
    {
      "cell_type": "code",
      "source": [
        "!pip install catboost"
      ],
      "metadata": {
        "colab": {
          "base_uri": "https://localhost:8080/"
        },
        "id": "zymqHbfPrO7P",
        "outputId": "525dc2ef-72a9-44cf-e524-aaf5c1a3df1e"
      },
      "execution_count": null,
      "outputs": [
        {
          "output_type": "stream",
          "name": "stdout",
          "text": [
            "Collecting catboost\n",
            "  Downloading catboost-1.0.5-cp37-none-manylinux1_x86_64.whl (76.6 MB)\n",
            "\u001b[K     |████████████████████████████████| 76.6 MB 1.2 MB/s \n",
            "\u001b[?25hRequirement already satisfied: six in /usr/local/lib/python3.7/dist-packages (from catboost) (1.15.0)\n",
            "Requirement already satisfied: plotly in /usr/local/lib/python3.7/dist-packages (from catboost) (5.5.0)\n",
            "Requirement already satisfied: graphviz in /usr/local/lib/python3.7/dist-packages (from catboost) (0.10.1)\n",
            "Requirement already satisfied: scipy in /usr/local/lib/python3.7/dist-packages (from catboost) (1.4.1)\n",
            "Requirement already satisfied: pandas>=0.24.0 in /usr/local/lib/python3.7/dist-packages (from catboost) (1.3.5)\n",
            "Requirement already satisfied: numpy>=1.16.0 in /usr/local/lib/python3.7/dist-packages (from catboost) (1.21.6)\n",
            "Requirement already satisfied: matplotlib in /usr/local/lib/python3.7/dist-packages (from catboost) (3.2.2)\n",
            "Requirement already satisfied: pytz>=2017.3 in /usr/local/lib/python3.7/dist-packages (from pandas>=0.24.0->catboost) (2022.1)\n",
            "Requirement already satisfied: python-dateutil>=2.7.3 in /usr/local/lib/python3.7/dist-packages (from pandas>=0.24.0->catboost) (2.8.2)\n",
            "Requirement already satisfied: pyparsing!=2.0.4,!=2.1.2,!=2.1.6,>=2.0.1 in /usr/local/lib/python3.7/dist-packages (from matplotlib->catboost) (3.0.8)\n",
            "Requirement already satisfied: kiwisolver>=1.0.1 in /usr/local/lib/python3.7/dist-packages (from matplotlib->catboost) (1.4.2)\n",
            "Requirement already satisfied: cycler>=0.10 in /usr/local/lib/python3.7/dist-packages (from matplotlib->catboost) (0.11.0)\n",
            "Requirement already satisfied: typing-extensions in /usr/local/lib/python3.7/dist-packages (from kiwisolver>=1.0.1->matplotlib->catboost) (4.2.0)\n",
            "Requirement already satisfied: tenacity>=6.2.0 in /usr/local/lib/python3.7/dist-packages (from plotly->catboost) (8.0.1)\n",
            "Installing collected packages: catboost\n",
            "Successfully installed catboost-1.0.5\n"
          ]
        }
      ]
    },
    {
      "cell_type": "code",
      "source": [
        "from catboost import CatBoostRegressor"
      ],
      "metadata": {
        "id": "U4JwOgp-q-NQ"
      },
      "execution_count": null,
      "outputs": []
    },
    {
      "cell_type": "code",
      "source": [
        "model = CatBoostRegressor(iterations=500,\n",
        "                          learning_rate=0.05,\n",
        "                          depth=5,\n",
        "                          eval_metric='MAPE',\n",
        "                          random_seed = RANDOM_SEED,\n",
        "                          custom_metric=['RMSE', 'MAE'],\n",
        "                          od_wait=500)\n",
        "\n",
        "# В Catboost передаем категориальные переменные без обработки\n",
        "cat_features = cat_cols\n",
        "# Fit model\n",
        "model.fit(X_train, np.log(y_train), cat_features, eval_set=(X_test, np.log(y_test)), use_best_model=True)\n",
        "# Get predictions\n",
        "preds = model.predict(X_test)"
      ],
      "metadata": {
        "colab": {
          "base_uri": "https://localhost:8080/"
        },
        "id": "Rksv_RLArZV6",
        "outputId": "904951e8-050c-4446-bc0e-bef82c76d978"
      },
      "execution_count": 114,
      "outputs": [
        {
          "output_type": "stream",
          "name": "stdout",
          "text": [
            "0:\tlearn: 0.0680601\ttest: 0.0682004\tbest: 0.0682004 (0)\ttotal: 235ms\tremaining: 1m 57s\n",
            "1:\tlearn: 0.0657916\ttest: 0.0659362\tbest: 0.0659362 (1)\ttotal: 421ms\tremaining: 1m 44s\n",
            "2:\tlearn: 0.0637440\ttest: 0.0638871\tbest: 0.0638871 (2)\ttotal: 611ms\tremaining: 1m 41s\n",
            "3:\tlearn: 0.0616846\ttest: 0.0618257\tbest: 0.0618257 (3)\ttotal: 831ms\tremaining: 1m 43s\n",
            "4:\tlearn: 0.0597680\ttest: 0.0599099\tbest: 0.0599099 (4)\ttotal: 996ms\tremaining: 1m 38s\n",
            "5:\tlearn: 0.0579262\ttest: 0.0580659\tbest: 0.0580659 (5)\ttotal: 1.17s\tremaining: 1m 36s\n",
            "6:\tlearn: 0.0562046\ttest: 0.0563505\tbest: 0.0563505 (6)\ttotal: 1.35s\tremaining: 1m 35s\n",
            "7:\tlearn: 0.0546848\ttest: 0.0548357\tbest: 0.0548357 (7)\ttotal: 1.55s\tremaining: 1m 35s\n",
            "8:\tlearn: 0.0531344\ttest: 0.0532858\tbest: 0.0532858 (8)\ttotal: 1.74s\tremaining: 1m 34s\n",
            "9:\tlearn: 0.0516073\ttest: 0.0517483\tbest: 0.0517483 (9)\ttotal: 1.93s\tremaining: 1m 34s\n",
            "10:\tlearn: 0.0501106\ttest: 0.0502605\tbest: 0.0502605 (10)\ttotal: 2.11s\tremaining: 1m 33s\n",
            "11:\tlearn: 0.0486982\ttest: 0.0488479\tbest: 0.0488479 (11)\ttotal: 2.28s\tremaining: 1m 32s\n",
            "12:\tlearn: 0.0473846\ttest: 0.0475350\tbest: 0.0475350 (12)\ttotal: 2.46s\tremaining: 1m 32s\n",
            "13:\tlearn: 0.0461475\ttest: 0.0462866\tbest: 0.0462866 (13)\ttotal: 2.65s\tremaining: 1m 32s\n",
            "14:\tlearn: 0.0451134\ttest: 0.0452528\tbest: 0.0452528 (14)\ttotal: 2.82s\tremaining: 1m 31s\n",
            "15:\tlearn: 0.0439707\ttest: 0.0441121\tbest: 0.0441121 (15)\ttotal: 3.02s\tremaining: 1m 31s\n",
            "16:\tlearn: 0.0428833\ttest: 0.0430227\tbest: 0.0430227 (16)\ttotal: 3.2s\tremaining: 1m 30s\n",
            "17:\tlearn: 0.0418663\ttest: 0.0420072\tbest: 0.0420072 (17)\ttotal: 3.37s\tremaining: 1m 30s\n",
            "18:\tlearn: 0.0410070\ttest: 0.0411511\tbest: 0.0411511 (18)\ttotal: 3.58s\tremaining: 1m 30s\n",
            "19:\tlearn: 0.0402616\ttest: 0.0404101\tbest: 0.0404101 (19)\ttotal: 3.78s\tremaining: 1m 30s\n",
            "20:\tlearn: 0.0393903\ttest: 0.0395374\tbest: 0.0395374 (20)\ttotal: 4s\tremaining: 1m 31s\n",
            "21:\tlearn: 0.0385906\ttest: 0.0387246\tbest: 0.0387246 (21)\ttotal: 4.17s\tremaining: 1m 30s\n",
            "22:\tlearn: 0.0376466\ttest: 0.0377811\tbest: 0.0377811 (22)\ttotal: 4.34s\tremaining: 1m 30s\n",
            "23:\tlearn: 0.0369197\ttest: 0.0370557\tbest: 0.0370557 (23)\ttotal: 4.56s\tremaining: 1m 30s\n",
            "24:\tlearn: 0.0362081\ttest: 0.0363389\tbest: 0.0363389 (24)\ttotal: 4.78s\tremaining: 1m 30s\n",
            "25:\tlearn: 0.0354877\ttest: 0.0356161\tbest: 0.0356161 (25)\ttotal: 4.98s\tremaining: 1m 30s\n",
            "26:\tlearn: 0.0347609\ttest: 0.0348954\tbest: 0.0348954 (26)\ttotal: 5.17s\tremaining: 1m 30s\n",
            "27:\tlearn: 0.0341190\ttest: 0.0342543\tbest: 0.0342543 (27)\ttotal: 5.35s\tremaining: 1m 30s\n",
            "28:\tlearn: 0.0335162\ttest: 0.0336491\tbest: 0.0336491 (28)\ttotal: 5.56s\tremaining: 1m 30s\n",
            "29:\tlearn: 0.0330518\ttest: 0.0331842\tbest: 0.0331842 (29)\ttotal: 5.76s\tremaining: 1m 30s\n",
            "30:\tlearn: 0.0326149\ttest: 0.0327519\tbest: 0.0327519 (30)\ttotal: 5.97s\tremaining: 1m 30s\n",
            "31:\tlearn: 0.0320041\ttest: 0.0321457\tbest: 0.0321457 (31)\ttotal: 6.16s\tremaining: 1m 30s\n",
            "32:\tlearn: 0.0315620\ttest: 0.0317036\tbest: 0.0317036 (32)\ttotal: 6.37s\tremaining: 1m 30s\n",
            "33:\tlearn: 0.0310816\ttest: 0.0312230\tbest: 0.0312230 (33)\ttotal: 6.58s\tremaining: 1m 30s\n",
            "34:\tlearn: 0.0305648\ttest: 0.0307078\tbest: 0.0307078 (34)\ttotal: 6.75s\tremaining: 1m 29s\n",
            "35:\tlearn: 0.0300470\ttest: 0.0301908\tbest: 0.0301908 (35)\ttotal: 6.96s\tremaining: 1m 29s\n",
            "36:\tlearn: 0.0297343\ttest: 0.0298749\tbest: 0.0298749 (36)\ttotal: 7.17s\tremaining: 1m 29s\n",
            "37:\tlearn: 0.0293009\ttest: 0.0294384\tbest: 0.0294384 (37)\ttotal: 7.35s\tremaining: 1m 29s\n",
            "38:\tlearn: 0.0290093\ttest: 0.0291463\tbest: 0.0291463 (38)\ttotal: 7.56s\tremaining: 1m 29s\n",
            "39:\tlearn: 0.0285673\ttest: 0.0287008\tbest: 0.0287008 (39)\ttotal: 7.77s\tremaining: 1m 29s\n",
            "40:\tlearn: 0.0283504\ttest: 0.0284851\tbest: 0.0284851 (40)\ttotal: 7.95s\tremaining: 1m 29s\n",
            "41:\tlearn: 0.0281160\ttest: 0.0282511\tbest: 0.0282511 (41)\ttotal: 8.11s\tremaining: 1m 28s\n",
            "42:\tlearn: 0.0278845\ttest: 0.0280177\tbest: 0.0280177 (42)\ttotal: 8.25s\tremaining: 1m 27s\n",
            "43:\tlearn: 0.0276514\ttest: 0.0277855\tbest: 0.0277855 (43)\ttotal: 8.39s\tremaining: 1m 26s\n",
            "44:\tlearn: 0.0274788\ttest: 0.0276128\tbest: 0.0276128 (44)\ttotal: 8.53s\tremaining: 1m 26s\n",
            "45:\tlearn: 0.0273186\ttest: 0.0274508\tbest: 0.0274508 (45)\ttotal: 8.66s\tremaining: 1m 25s\n",
            "46:\tlearn: 0.0269553\ttest: 0.0270850\tbest: 0.0270850 (46)\ttotal: 8.83s\tremaining: 1m 25s\n",
            "47:\tlearn: 0.0266258\ttest: 0.0267569\tbest: 0.0267569 (47)\ttotal: 9.04s\tremaining: 1m 25s\n",
            "48:\tlearn: 0.0262809\ttest: 0.0264140\tbest: 0.0264140 (48)\ttotal: 9.22s\tremaining: 1m 24s\n",
            "49:\tlearn: 0.0261098\ttest: 0.0262432\tbest: 0.0262432 (49)\ttotal: 9.37s\tremaining: 1m 24s\n",
            "50:\tlearn: 0.0258806\ttest: 0.0260117\tbest: 0.0260117 (50)\ttotal: 9.55s\tremaining: 1m 24s\n",
            "51:\tlearn: 0.0255961\ttest: 0.0257294\tbest: 0.0257294 (51)\ttotal: 9.74s\tremaining: 1m 23s\n",
            "52:\tlearn: 0.0252778\ttest: 0.0254110\tbest: 0.0254110 (52)\ttotal: 9.95s\tremaining: 1m 23s\n",
            "53:\tlearn: 0.0250537\ttest: 0.0251888\tbest: 0.0251888 (53)\ttotal: 10.1s\tremaining: 1m 23s\n",
            "54:\tlearn: 0.0248126\ttest: 0.0249468\tbest: 0.0249468 (54)\ttotal: 10.3s\tremaining: 1m 23s\n",
            "55:\tlearn: 0.0245375\ttest: 0.0246717\tbest: 0.0246717 (55)\ttotal: 10.5s\tremaining: 1m 23s\n",
            "56:\tlearn: 0.0242916\ttest: 0.0244227\tbest: 0.0244227 (56)\ttotal: 10.7s\tremaining: 1m 22s\n",
            "57:\tlearn: 0.0240664\ttest: 0.0242009\tbest: 0.0242009 (57)\ttotal: 10.9s\tremaining: 1m 22s\n",
            "58:\tlearn: 0.0238937\ttest: 0.0240337\tbest: 0.0240337 (58)\ttotal: 11s\tremaining: 1m 22s\n",
            "59:\tlearn: 0.0237314\ttest: 0.0238707\tbest: 0.0238707 (59)\ttotal: 11.2s\tremaining: 1m 21s\n",
            "60:\tlearn: 0.0235725\ttest: 0.0237092\tbest: 0.0237092 (60)\ttotal: 11.3s\tremaining: 1m 21s\n",
            "61:\tlearn: 0.0233789\ttest: 0.0235169\tbest: 0.0235169 (61)\ttotal: 11.6s\tremaining: 1m 21s\n",
            "62:\tlearn: 0.0231814\ttest: 0.0233195\tbest: 0.0233195 (62)\ttotal: 11.8s\tremaining: 1m 21s\n",
            "63:\tlearn: 0.0229927\ttest: 0.0231265\tbest: 0.0231265 (63)\ttotal: 12s\tremaining: 1m 21s\n",
            "64:\tlearn: 0.0229076\ttest: 0.0230415\tbest: 0.0230415 (64)\ttotal: 12.1s\tremaining: 1m 21s\n",
            "65:\tlearn: 0.0227256\ttest: 0.0228615\tbest: 0.0228615 (65)\ttotal: 12.3s\tremaining: 1m 21s\n",
            "66:\tlearn: 0.0226028\ttest: 0.0227389\tbest: 0.0227389 (66)\ttotal: 12.5s\tremaining: 1m 20s\n",
            "67:\tlearn: 0.0224382\ttest: 0.0225751\tbest: 0.0225751 (67)\ttotal: 12.7s\tremaining: 1m 20s\n",
            "68:\tlearn: 0.0223016\ttest: 0.0224391\tbest: 0.0224391 (68)\ttotal: 12.8s\tremaining: 1m 19s\n",
            "69:\tlearn: 0.0222138\ttest: 0.0223488\tbest: 0.0223488 (69)\ttotal: 13s\tremaining: 1m 19s\n",
            "70:\tlearn: 0.0220512\ttest: 0.0221851\tbest: 0.0221851 (70)\ttotal: 13.1s\tremaining: 1m 19s\n",
            "71:\tlearn: 0.0218819\ttest: 0.0220184\tbest: 0.0220184 (71)\ttotal: 13.4s\tremaining: 1m 19s\n",
            "72:\tlearn: 0.0217683\ttest: 0.0219075\tbest: 0.0219075 (72)\ttotal: 13.6s\tremaining: 1m 19s\n",
            "73:\tlearn: 0.0216011\ttest: 0.0217380\tbest: 0.0217380 (73)\ttotal: 13.8s\tremaining: 1m 19s\n",
            "74:\tlearn: 0.0214794\ttest: 0.0216152\tbest: 0.0216152 (74)\ttotal: 13.9s\tremaining: 1m 19s\n",
            "75:\tlearn: 0.0213370\ttest: 0.0214715\tbest: 0.0214715 (75)\ttotal: 14.1s\tremaining: 1m 18s\n",
            "76:\tlearn: 0.0211910\ttest: 0.0213226\tbest: 0.0213226 (76)\ttotal: 14.4s\tremaining: 1m 18s\n",
            "77:\tlearn: 0.0210906\ttest: 0.0212213\tbest: 0.0212213 (77)\ttotal: 14.5s\tremaining: 1m 18s\n",
            "78:\tlearn: 0.0210052\ttest: 0.0211354\tbest: 0.0211354 (78)\ttotal: 14.7s\tremaining: 1m 18s\n",
            "79:\tlearn: 0.0208898\ttest: 0.0210215\tbest: 0.0210215 (79)\ttotal: 14.9s\tremaining: 1m 18s\n",
            "80:\tlearn: 0.0208234\ttest: 0.0209548\tbest: 0.0209548 (80)\ttotal: 15s\tremaining: 1m 17s\n",
            "81:\tlearn: 0.0207673\ttest: 0.0208971\tbest: 0.0208971 (81)\ttotal: 15.2s\tremaining: 1m 17s\n",
            "82:\tlearn: 0.0206821\ttest: 0.0208131\tbest: 0.0208131 (82)\ttotal: 15.4s\tremaining: 1m 17s\n",
            "83:\tlearn: 0.0205842\ttest: 0.0207124\tbest: 0.0207124 (83)\ttotal: 15.5s\tremaining: 1m 16s\n",
            "84:\tlearn: 0.0205246\ttest: 0.0206529\tbest: 0.0206529 (84)\ttotal: 15.7s\tremaining: 1m 16s\n",
            "85:\tlearn: 0.0204075\ttest: 0.0205343\tbest: 0.0205343 (85)\ttotal: 15.9s\tremaining: 1m 16s\n",
            "86:\tlearn: 0.0203059\ttest: 0.0204338\tbest: 0.0204338 (86)\ttotal: 16.1s\tremaining: 1m 16s\n",
            "87:\tlearn: 0.0202564\ttest: 0.0203822\tbest: 0.0203822 (87)\ttotal: 16.2s\tremaining: 1m 16s\n",
            "88:\tlearn: 0.0201973\ttest: 0.0203234\tbest: 0.0203234 (88)\ttotal: 16.4s\tremaining: 1m 15s\n",
            "89:\tlearn: 0.0200900\ttest: 0.0202138\tbest: 0.0202138 (89)\ttotal: 16.6s\tremaining: 1m 15s\n",
            "90:\tlearn: 0.0199878\ttest: 0.0201107\tbest: 0.0201107 (90)\ttotal: 16.8s\tremaining: 1m 15s\n",
            "91:\tlearn: 0.0198997\ttest: 0.0200223\tbest: 0.0200223 (91)\ttotal: 16.9s\tremaining: 1m 15s\n",
            "92:\tlearn: 0.0198646\ttest: 0.0199857\tbest: 0.0199857 (92)\ttotal: 17.1s\tremaining: 1m 14s\n",
            "93:\tlearn: 0.0198045\ttest: 0.0199246\tbest: 0.0199246 (93)\ttotal: 17.3s\tremaining: 1m 14s\n",
            "94:\tlearn: 0.0197172\ttest: 0.0198376\tbest: 0.0198376 (94)\ttotal: 17.5s\tremaining: 1m 14s\n",
            "95:\tlearn: 0.0196569\ttest: 0.0197780\tbest: 0.0197780 (95)\ttotal: 17.7s\tremaining: 1m 14s\n",
            "96:\tlearn: 0.0195796\ttest: 0.0197010\tbest: 0.0197010 (96)\ttotal: 17.8s\tremaining: 1m 14s\n",
            "97:\tlearn: 0.0195184\ttest: 0.0196384\tbest: 0.0196384 (97)\ttotal: 18s\tremaining: 1m 14s\n",
            "98:\tlearn: 0.0194597\ttest: 0.0195792\tbest: 0.0195792 (98)\ttotal: 18.2s\tremaining: 1m 13s\n",
            "99:\tlearn: 0.0194059\ttest: 0.0195259\tbest: 0.0195259 (99)\ttotal: 18.4s\tremaining: 1m 13s\n",
            "100:\tlearn: 0.0193377\ttest: 0.0194571\tbest: 0.0194571 (100)\ttotal: 18.6s\tremaining: 1m 13s\n",
            "101:\tlearn: 0.0193078\ttest: 0.0194281\tbest: 0.0194281 (101)\ttotal: 18.7s\tremaining: 1m 13s\n",
            "102:\tlearn: 0.0192307\ttest: 0.0193481\tbest: 0.0193481 (102)\ttotal: 18.9s\tremaining: 1m 12s\n",
            "103:\tlearn: 0.0191764\ttest: 0.0192931\tbest: 0.0192931 (103)\ttotal: 19.1s\tremaining: 1m 12s\n",
            "104:\tlearn: 0.0191053\ttest: 0.0192207\tbest: 0.0192207 (104)\ttotal: 19.3s\tremaining: 1m 12s\n",
            "105:\tlearn: 0.0190856\ttest: 0.0191999\tbest: 0.0191999 (105)\ttotal: 19.5s\tremaining: 1m 12s\n",
            "106:\tlearn: 0.0190010\ttest: 0.0191167\tbest: 0.0191167 (106)\ttotal: 19.7s\tremaining: 1m 12s\n",
            "107:\tlearn: 0.0189399\ttest: 0.0190536\tbest: 0.0190536 (107)\ttotal: 19.9s\tremaining: 1m 12s\n",
            "108:\tlearn: 0.0188726\ttest: 0.0189868\tbest: 0.0189868 (108)\ttotal: 20.1s\tremaining: 1m 12s\n",
            "109:\tlearn: 0.0188098\ttest: 0.0189228\tbest: 0.0189228 (109)\ttotal: 20.3s\tremaining: 1m 11s\n",
            "110:\tlearn: 0.0187349\ttest: 0.0188497\tbest: 0.0188497 (110)\ttotal: 20.5s\tremaining: 1m 11s\n",
            "111:\tlearn: 0.0186861\ttest: 0.0188012\tbest: 0.0188012 (111)\ttotal: 20.7s\tremaining: 1m 11s\n",
            "112:\tlearn: 0.0186338\ttest: 0.0187480\tbest: 0.0187480 (112)\ttotal: 20.9s\tremaining: 1m 11s\n",
            "113:\tlearn: 0.0186055\ttest: 0.0187204\tbest: 0.0187204 (113)\ttotal: 21.1s\tremaining: 1m 11s\n",
            "114:\tlearn: 0.0185350\ttest: 0.0186497\tbest: 0.0186497 (114)\ttotal: 21.2s\tremaining: 1m 11s\n",
            "115:\tlearn: 0.0184692\ttest: 0.0185815\tbest: 0.0185815 (115)\ttotal: 21.5s\tremaining: 1m 11s\n",
            "116:\tlearn: 0.0184182\ttest: 0.0185313\tbest: 0.0185313 (116)\ttotal: 21.6s\tremaining: 1m 10s\n",
            "117:\tlearn: 0.0183711\ttest: 0.0184828\tbest: 0.0184828 (117)\ttotal: 21.8s\tremaining: 1m 10s\n",
            "118:\tlearn: 0.0183278\ttest: 0.0184374\tbest: 0.0184374 (118)\ttotal: 22s\tremaining: 1m 10s\n",
            "119:\tlearn: 0.0182649\ttest: 0.0183738\tbest: 0.0183738 (119)\ttotal: 22.2s\tremaining: 1m 10s\n",
            "120:\tlearn: 0.0182234\ttest: 0.0183310\tbest: 0.0183310 (120)\ttotal: 22.3s\tremaining: 1m 9s\n",
            "121:\tlearn: 0.0182066\ttest: 0.0183134\tbest: 0.0183134 (121)\ttotal: 22.5s\tremaining: 1m 9s\n",
            "122:\tlearn: 0.0181495\ttest: 0.0182573\tbest: 0.0182573 (122)\ttotal: 22.7s\tremaining: 1m 9s\n",
            "123:\tlearn: 0.0180983\ttest: 0.0182047\tbest: 0.0182047 (123)\ttotal: 22.9s\tremaining: 1m 9s\n",
            "124:\tlearn: 0.0180681\ttest: 0.0181737\tbest: 0.0181737 (124)\ttotal: 23.1s\tremaining: 1m 9s\n",
            "125:\tlearn: 0.0180201\ttest: 0.0181256\tbest: 0.0181256 (125)\ttotal: 23.3s\tremaining: 1m 9s\n",
            "126:\tlearn: 0.0179725\ttest: 0.0180793\tbest: 0.0180793 (126)\ttotal: 23.5s\tremaining: 1m 8s\n",
            "127:\tlearn: 0.0179477\ttest: 0.0180531\tbest: 0.0180531 (127)\ttotal: 23.6s\tremaining: 1m 8s\n",
            "128:\tlearn: 0.0179246\ttest: 0.0180289\tbest: 0.0180289 (128)\ttotal: 23.8s\tremaining: 1m 8s\n",
            "129:\tlearn: 0.0178730\ttest: 0.0179770\tbest: 0.0179770 (129)\ttotal: 24s\tremaining: 1m 8s\n",
            "130:\tlearn: 0.0178437\ttest: 0.0179467\tbest: 0.0179467 (130)\ttotal: 24.2s\tremaining: 1m 8s\n",
            "131:\tlearn: 0.0178296\ttest: 0.0179339\tbest: 0.0179339 (131)\ttotal: 24.4s\tremaining: 1m 7s\n",
            "132:\tlearn: 0.0177870\ttest: 0.0178910\tbest: 0.0178910 (132)\ttotal: 24.5s\tremaining: 1m 7s\n",
            "133:\tlearn: 0.0177335\ttest: 0.0178371\tbest: 0.0178371 (133)\ttotal: 24.7s\tremaining: 1m 7s\n",
            "134:\tlearn: 0.0176894\ttest: 0.0177916\tbest: 0.0177916 (134)\ttotal: 24.9s\tremaining: 1m 7s\n",
            "135:\tlearn: 0.0176323\ttest: 0.0177335\tbest: 0.0177335 (135)\ttotal: 25.1s\tremaining: 1m 7s\n",
            "136:\tlearn: 0.0175914\ttest: 0.0176929\tbest: 0.0176929 (136)\ttotal: 25.3s\tremaining: 1m 6s\n",
            "137:\tlearn: 0.0175572\ttest: 0.0176589\tbest: 0.0176589 (137)\ttotal: 25.5s\tremaining: 1m 6s\n",
            "138:\tlearn: 0.0175241\ttest: 0.0176259\tbest: 0.0176259 (138)\ttotal: 25.6s\tremaining: 1m 6s\n",
            "139:\tlearn: 0.0175125\ttest: 0.0176153\tbest: 0.0176153 (139)\ttotal: 25.8s\tremaining: 1m 6s\n",
            "140:\tlearn: 0.0174775\ttest: 0.0175781\tbest: 0.0175781 (140)\ttotal: 26s\tremaining: 1m 6s\n",
            "141:\tlearn: 0.0174283\ttest: 0.0175288\tbest: 0.0175288 (141)\ttotal: 26.1s\tremaining: 1m 5s\n",
            "142:\tlearn: 0.0173978\ttest: 0.0174989\tbest: 0.0174989 (142)\ttotal: 26.3s\tremaining: 1m 5s\n",
            "143:\tlearn: 0.0173740\ttest: 0.0174755\tbest: 0.0174755 (143)\ttotal: 26.5s\tremaining: 1m 5s\n",
            "144:\tlearn: 0.0173436\ttest: 0.0174458\tbest: 0.0174458 (144)\ttotal: 26.7s\tremaining: 1m 5s\n",
            "145:\tlearn: 0.0173286\ttest: 0.0174311\tbest: 0.0174311 (145)\ttotal: 26.8s\tremaining: 1m 5s\n",
            "146:\tlearn: 0.0173066\ttest: 0.0174082\tbest: 0.0174082 (146)\ttotal: 27s\tremaining: 1m 4s\n",
            "147:\tlearn: 0.0172611\ttest: 0.0173608\tbest: 0.0173608 (147)\ttotal: 27.2s\tremaining: 1m 4s\n",
            "148:\tlearn: 0.0172474\ttest: 0.0173474\tbest: 0.0173474 (148)\ttotal: 27.4s\tremaining: 1m 4s\n",
            "149:\tlearn: 0.0172203\ttest: 0.0173204\tbest: 0.0173204 (149)\ttotal: 27.6s\tremaining: 1m 4s\n",
            "150:\tlearn: 0.0172016\ttest: 0.0173009\tbest: 0.0173009 (150)\ttotal: 27.8s\tremaining: 1m 4s\n",
            "151:\tlearn: 0.0171860\ttest: 0.0172855\tbest: 0.0172855 (151)\ttotal: 27.9s\tremaining: 1m 3s\n",
            "152:\tlearn: 0.0171638\ttest: 0.0172625\tbest: 0.0172625 (152)\ttotal: 28.1s\tremaining: 1m 3s\n",
            "153:\tlearn: 0.0171556\ttest: 0.0172556\tbest: 0.0172556 (153)\ttotal: 28.3s\tremaining: 1m 3s\n",
            "154:\tlearn: 0.0171167\ttest: 0.0172164\tbest: 0.0172164 (154)\ttotal: 28.4s\tremaining: 1m 3s\n",
            "155:\tlearn: 0.0170934\ttest: 0.0171934\tbest: 0.0171934 (155)\ttotal: 28.6s\tremaining: 1m 3s\n",
            "156:\tlearn: 0.0170595\ttest: 0.0171608\tbest: 0.0171608 (156)\ttotal: 28.8s\tremaining: 1m 2s\n",
            "157:\tlearn: 0.0170303\ttest: 0.0171323\tbest: 0.0171323 (157)\ttotal: 29s\tremaining: 1m 2s\n",
            "158:\tlearn: 0.0169975\ttest: 0.0170993\tbest: 0.0170993 (158)\ttotal: 29.2s\tremaining: 1m 2s\n",
            "159:\tlearn: 0.0169451\ttest: 0.0170459\tbest: 0.0170459 (159)\ttotal: 29.4s\tremaining: 1m 2s\n",
            "160:\tlearn: 0.0169266\ttest: 0.0170286\tbest: 0.0170286 (160)\ttotal: 29.6s\tremaining: 1m 2s\n",
            "161:\tlearn: 0.0168976\ttest: 0.0169999\tbest: 0.0169999 (161)\ttotal: 29.8s\tremaining: 1m 2s\n",
            "162:\tlearn: 0.0168774\ttest: 0.0169804\tbest: 0.0169804 (162)\ttotal: 30s\tremaining: 1m 2s\n",
            "163:\tlearn: 0.0168617\ttest: 0.0169650\tbest: 0.0169650 (163)\ttotal: 30.2s\tremaining: 1m 1s\n",
            "164:\tlearn: 0.0168262\ttest: 0.0169295\tbest: 0.0169295 (164)\ttotal: 30.3s\tremaining: 1m 1s\n",
            "165:\tlearn: 0.0168172\ttest: 0.0169207\tbest: 0.0169207 (165)\ttotal: 30.5s\tremaining: 1m 1s\n",
            "166:\tlearn: 0.0167802\ttest: 0.0168829\tbest: 0.0168829 (166)\ttotal: 30.7s\tremaining: 1m 1s\n",
            "167:\tlearn: 0.0167625\ttest: 0.0168665\tbest: 0.0168665 (167)\ttotal: 30.8s\tremaining: 1m\n",
            "168:\tlearn: 0.0167446\ttest: 0.0168486\tbest: 0.0168486 (168)\ttotal: 31s\tremaining: 1m\n",
            "169:\tlearn: 0.0167375\ttest: 0.0168417\tbest: 0.0168417 (169)\ttotal: 31.2s\tremaining: 1m\n",
            "170:\tlearn: 0.0167177\ttest: 0.0168228\tbest: 0.0168228 (170)\ttotal: 31.4s\tremaining: 1m\n",
            "171:\tlearn: 0.0167083\ttest: 0.0168135\tbest: 0.0168135 (171)\ttotal: 31.6s\tremaining: 1m\n",
            "172:\tlearn: 0.0166985\ttest: 0.0168042\tbest: 0.0168042 (172)\ttotal: 31.8s\tremaining: 1m\n",
            "173:\tlearn: 0.0166668\ttest: 0.0167724\tbest: 0.0167724 (173)\ttotal: 32s\tremaining: 59.9s\n",
            "174:\tlearn: 0.0166526\ttest: 0.0167589\tbest: 0.0167589 (174)\ttotal: 32.1s\tremaining: 59.7s\n",
            "175:\tlearn: 0.0166214\ttest: 0.0167276\tbest: 0.0167276 (175)\ttotal: 32.3s\tremaining: 59.5s\n",
            "176:\tlearn: 0.0165918\ttest: 0.0166988\tbest: 0.0166988 (176)\ttotal: 32.5s\tremaining: 59.3s\n",
            "177:\tlearn: 0.0165705\ttest: 0.0166772\tbest: 0.0166772 (177)\ttotal: 32.6s\tremaining: 59s\n",
            "178:\tlearn: 0.0165583\ttest: 0.0166641\tbest: 0.0166641 (178)\ttotal: 32.8s\tremaining: 58.9s\n",
            "179:\tlearn: 0.0165285\ttest: 0.0166334\tbest: 0.0166334 (179)\ttotal: 33s\tremaining: 58.7s\n",
            "180:\tlearn: 0.0165202\ttest: 0.0166247\tbest: 0.0166247 (180)\ttotal: 33.2s\tremaining: 58.5s\n",
            "181:\tlearn: 0.0165049\ttest: 0.0166089\tbest: 0.0166089 (181)\ttotal: 33.3s\tremaining: 58.3s\n",
            "182:\tlearn: 0.0164951\ttest: 0.0165997\tbest: 0.0165997 (182)\ttotal: 33.5s\tremaining: 58s\n",
            "183:\tlearn: 0.0164850\ttest: 0.0165891\tbest: 0.0165891 (183)\ttotal: 33.7s\tremaining: 57.9s\n",
            "184:\tlearn: 0.0164646\ttest: 0.0165701\tbest: 0.0165701 (184)\ttotal: 33.9s\tremaining: 57.7s\n",
            "185:\tlearn: 0.0164487\ttest: 0.0165563\tbest: 0.0165563 (185)\ttotal: 34.1s\tremaining: 57.5s\n",
            "186:\tlearn: 0.0164258\ttest: 0.0165330\tbest: 0.0165330 (186)\ttotal: 34.3s\tremaining: 57.3s\n",
            "187:\tlearn: 0.0164047\ttest: 0.0165116\tbest: 0.0165116 (187)\ttotal: 34.4s\tremaining: 57.2s\n",
            "188:\tlearn: 0.0163793\ttest: 0.0164866\tbest: 0.0164866 (188)\ttotal: 34.6s\tremaining: 57s\n",
            "189:\tlearn: 0.0163532\ttest: 0.0164599\tbest: 0.0164599 (189)\ttotal: 34.8s\tremaining: 56.8s\n",
            "190:\tlearn: 0.0163402\ttest: 0.0164481\tbest: 0.0164481 (190)\ttotal: 35s\tremaining: 56.6s\n",
            "191:\tlearn: 0.0163263\ttest: 0.0164351\tbest: 0.0164351 (191)\ttotal: 35.2s\tremaining: 56.5s\n",
            "192:\tlearn: 0.0163056\ttest: 0.0164139\tbest: 0.0164139 (192)\ttotal: 35.4s\tremaining: 56.3s\n",
            "193:\tlearn: 0.0162882\ttest: 0.0163973\tbest: 0.0163973 (193)\ttotal: 35.6s\tremaining: 56.1s\n",
            "194:\tlearn: 0.0162639\ttest: 0.0163728\tbest: 0.0163728 (194)\ttotal: 35.7s\tremaining: 55.9s\n",
            "195:\tlearn: 0.0162408\ttest: 0.0163494\tbest: 0.0163494 (195)\ttotal: 35.9s\tremaining: 55.6s\n",
            "196:\tlearn: 0.0162249\ttest: 0.0163334\tbest: 0.0163334 (196)\ttotal: 36s\tremaining: 55.4s\n",
            "197:\tlearn: 0.0162145\ttest: 0.0163250\tbest: 0.0163250 (197)\ttotal: 36.2s\tremaining: 55.2s\n",
            "198:\tlearn: 0.0161950\ttest: 0.0163051\tbest: 0.0163051 (198)\ttotal: 36.4s\tremaining: 55s\n",
            "199:\tlearn: 0.0161833\ttest: 0.0162931\tbest: 0.0162931 (199)\ttotal: 36.5s\tremaining: 54.8s\n",
            "200:\tlearn: 0.0161645\ttest: 0.0162742\tbest: 0.0162742 (200)\ttotal: 36.7s\tremaining: 54.6s\n",
            "201:\tlearn: 0.0161525\ttest: 0.0162623\tbest: 0.0162623 (201)\ttotal: 36.9s\tremaining: 54.4s\n",
            "202:\tlearn: 0.0161389\ttest: 0.0162495\tbest: 0.0162495 (202)\ttotal: 37.1s\tremaining: 54.3s\n",
            "203:\tlearn: 0.0161264\ttest: 0.0162368\tbest: 0.0162368 (203)\ttotal: 37.2s\tremaining: 54s\n",
            "204:\tlearn: 0.0161089\ttest: 0.0162186\tbest: 0.0162186 (204)\ttotal: 37.4s\tremaining: 53.8s\n",
            "205:\tlearn: 0.0160909\ttest: 0.0162011\tbest: 0.0162011 (205)\ttotal: 37.6s\tremaining: 53.6s\n",
            "206:\tlearn: 0.0160750\ttest: 0.0161850\tbest: 0.0161850 (206)\ttotal: 37.8s\tremaining: 53.5s\n",
            "207:\tlearn: 0.0160613\ttest: 0.0161734\tbest: 0.0161734 (207)\ttotal: 37.9s\tremaining: 53.3s\n",
            "208:\tlearn: 0.0160409\ttest: 0.0161525\tbest: 0.0161525 (208)\ttotal: 38.1s\tremaining: 53.1s\n",
            "209:\tlearn: 0.0160354\ttest: 0.0161472\tbest: 0.0161472 (209)\ttotal: 38.2s\tremaining: 52.8s\n",
            "210:\tlearn: 0.0160249\ttest: 0.0161372\tbest: 0.0161372 (210)\ttotal: 38.4s\tremaining: 52.6s\n",
            "211:\tlearn: 0.0160085\ttest: 0.0161208\tbest: 0.0161208 (211)\ttotal: 38.6s\tremaining: 52.4s\n",
            "212:\tlearn: 0.0160046\ttest: 0.0161161\tbest: 0.0161161 (212)\ttotal: 38.7s\tremaining: 52.2s\n",
            "213:\tlearn: 0.0159952\ttest: 0.0161070\tbest: 0.0161070 (213)\ttotal: 38.9s\tremaining: 52s\n",
            "214:\tlearn: 0.0159720\ttest: 0.0160830\tbest: 0.0160830 (214)\ttotal: 39.1s\tremaining: 51.8s\n",
            "215:\tlearn: 0.0159605\ttest: 0.0160720\tbest: 0.0160720 (215)\ttotal: 39.2s\tremaining: 51.6s\n",
            "216:\tlearn: 0.0159409\ttest: 0.0160527\tbest: 0.0160527 (216)\ttotal: 39.4s\tremaining: 51.4s\n",
            "217:\tlearn: 0.0159237\ttest: 0.0160353\tbest: 0.0160353 (217)\ttotal: 39.6s\tremaining: 51.3s\n",
            "218:\tlearn: 0.0159122\ttest: 0.0160235\tbest: 0.0160235 (218)\ttotal: 39.9s\tremaining: 51.2s\n",
            "219:\tlearn: 0.0158915\ttest: 0.0160023\tbest: 0.0160023 (219)\ttotal: 40.1s\tremaining: 51s\n",
            "220:\tlearn: 0.0158850\ttest: 0.0159944\tbest: 0.0159944 (220)\ttotal: 40.2s\tremaining: 50.8s\n",
            "221:\tlearn: 0.0158744\ttest: 0.0159843\tbest: 0.0159843 (221)\ttotal: 40.4s\tremaining: 50.6s\n",
            "222:\tlearn: 0.0158655\ttest: 0.0159750\tbest: 0.0159750 (222)\ttotal: 40.5s\tremaining: 50.4s\n",
            "223:\tlearn: 0.0158487\ttest: 0.0159593\tbest: 0.0159593 (223)\ttotal: 40.7s\tremaining: 50.1s\n",
            "224:\tlearn: 0.0158376\ttest: 0.0159484\tbest: 0.0159484 (224)\ttotal: 40.9s\tremaining: 50s\n",
            "225:\tlearn: 0.0158212\ttest: 0.0159315\tbest: 0.0159315 (225)\ttotal: 41s\tremaining: 49.8s\n",
            "226:\tlearn: 0.0158115\ttest: 0.0159223\tbest: 0.0159223 (226)\ttotal: 41.2s\tremaining: 49.6s\n",
            "227:\tlearn: 0.0157995\ttest: 0.0159103\tbest: 0.0159103 (227)\ttotal: 41.4s\tremaining: 49.4s\n",
            "228:\tlearn: 0.0157875\ttest: 0.0158990\tbest: 0.0158990 (228)\ttotal: 41.6s\tremaining: 49.2s\n",
            "229:\tlearn: 0.0157696\ttest: 0.0158805\tbest: 0.0158805 (229)\ttotal: 41.8s\tremaining: 49s\n",
            "230:\tlearn: 0.0157552\ttest: 0.0158662\tbest: 0.0158662 (230)\ttotal: 41.9s\tremaining: 48.8s\n",
            "231:\tlearn: 0.0157465\ttest: 0.0158564\tbest: 0.0158564 (231)\ttotal: 42.1s\tremaining: 48.6s\n",
            "232:\tlearn: 0.0157335\ttest: 0.0158437\tbest: 0.0158437 (232)\ttotal: 42.3s\tremaining: 48.4s\n",
            "233:\tlearn: 0.0157137\ttest: 0.0158237\tbest: 0.0158237 (233)\ttotal: 42.4s\tremaining: 48.2s\n",
            "234:\tlearn: 0.0157055\ttest: 0.0158148\tbest: 0.0158148 (234)\ttotal: 42.6s\tremaining: 48.1s\n",
            "235:\tlearn: 0.0156935\ttest: 0.0158029\tbest: 0.0158029 (235)\ttotal: 42.8s\tremaining: 47.9s\n",
            "236:\tlearn: 0.0156820\ttest: 0.0157919\tbest: 0.0157919 (236)\ttotal: 43s\tremaining: 47.7s\n",
            "237:\tlearn: 0.0156724\ttest: 0.0157825\tbest: 0.0157825 (237)\ttotal: 43.1s\tremaining: 47.5s\n",
            "238:\tlearn: 0.0156690\ttest: 0.0157791\tbest: 0.0157791 (238)\ttotal: 43.3s\tremaining: 47.3s\n",
            "239:\tlearn: 0.0156635\ttest: 0.0157738\tbest: 0.0157738 (239)\ttotal: 43.4s\tremaining: 47.1s\n",
            "240:\tlearn: 0.0156565\ttest: 0.0157682\tbest: 0.0157682 (240)\ttotal: 43.6s\tremaining: 46.9s\n",
            "241:\tlearn: 0.0156499\ttest: 0.0157610\tbest: 0.0157610 (241)\ttotal: 43.8s\tremaining: 46.7s\n",
            "242:\tlearn: 0.0156338\ttest: 0.0157443\tbest: 0.0157443 (242)\ttotal: 44s\tremaining: 46.5s\n",
            "243:\tlearn: 0.0156236\ttest: 0.0157342\tbest: 0.0157342 (243)\ttotal: 44.1s\tremaining: 46.3s\n",
            "244:\tlearn: 0.0156120\ttest: 0.0157234\tbest: 0.0157234 (244)\ttotal: 44.3s\tremaining: 46.1s\n",
            "245:\tlearn: 0.0156062\ttest: 0.0157180\tbest: 0.0157180 (245)\ttotal: 44.5s\tremaining: 46s\n",
            "246:\tlearn: 0.0155971\ttest: 0.0157097\tbest: 0.0157097 (246)\ttotal: 44.7s\tremaining: 45.8s\n",
            "247:\tlearn: 0.0155927\ttest: 0.0157058\tbest: 0.0157058 (247)\ttotal: 44.9s\tremaining: 45.6s\n",
            "248:\tlearn: 0.0155845\ttest: 0.0156979\tbest: 0.0156979 (248)\ttotal: 45.1s\tremaining: 45.4s\n",
            "249:\tlearn: 0.0155785\ttest: 0.0156922\tbest: 0.0156922 (249)\ttotal: 45.2s\tremaining: 45.2s\n",
            "250:\tlearn: 0.0155668\ttest: 0.0156805\tbest: 0.0156805 (250)\ttotal: 45.4s\tremaining: 45.1s\n",
            "251:\tlearn: 0.0155604\ttest: 0.0156744\tbest: 0.0156744 (251)\ttotal: 45.6s\tremaining: 44.9s\n",
            "252:\tlearn: 0.0155482\ttest: 0.0156616\tbest: 0.0156616 (252)\ttotal: 45.7s\tremaining: 44.7s\n",
            "253:\tlearn: 0.0155363\ttest: 0.0156510\tbest: 0.0156510 (253)\ttotal: 46s\tremaining: 44.5s\n",
            "254:\tlearn: 0.0155267\ttest: 0.0156400\tbest: 0.0156400 (254)\ttotal: 46.2s\tremaining: 44.4s\n",
            "255:\tlearn: 0.0155139\ttest: 0.0156275\tbest: 0.0156275 (255)\ttotal: 46.4s\tremaining: 44.2s\n",
            "256:\tlearn: 0.0155064\ttest: 0.0156201\tbest: 0.0156201 (256)\ttotal: 46.6s\tremaining: 44s\n",
            "257:\tlearn: 0.0155039\ttest: 0.0156177\tbest: 0.0156177 (257)\ttotal: 46.8s\tremaining: 43.9s\n",
            "258:\tlearn: 0.0154949\ttest: 0.0156087\tbest: 0.0156087 (258)\ttotal: 47s\tremaining: 43.7s\n",
            "259:\tlearn: 0.0154831\ttest: 0.0155988\tbest: 0.0155988 (259)\ttotal: 47.1s\tremaining: 43.5s\n",
            "260:\tlearn: 0.0154669\ttest: 0.0155835\tbest: 0.0155835 (260)\ttotal: 47.4s\tremaining: 43.4s\n",
            "261:\tlearn: 0.0154571\ttest: 0.0155740\tbest: 0.0155740 (261)\ttotal: 47.5s\tremaining: 43.2s\n",
            "262:\tlearn: 0.0154501\ttest: 0.0155677\tbest: 0.0155677 (262)\ttotal: 47.7s\tremaining: 43s\n",
            "263:\tlearn: 0.0154437\ttest: 0.0155618\tbest: 0.0155618 (263)\ttotal: 47.9s\tremaining: 42.8s\n",
            "264:\tlearn: 0.0154300\ttest: 0.0155488\tbest: 0.0155488 (264)\ttotal: 48.1s\tremaining: 42.7s\n",
            "265:\tlearn: 0.0154221\ttest: 0.0155408\tbest: 0.0155408 (265)\ttotal: 48.3s\tremaining: 42.5s\n",
            "266:\tlearn: 0.0154165\ttest: 0.0155356\tbest: 0.0155356 (266)\ttotal: 48.4s\tremaining: 42.3s\n",
            "267:\tlearn: 0.0154005\ttest: 0.0155193\tbest: 0.0155193 (267)\ttotal: 48.6s\tremaining: 42.1s\n",
            "268:\tlearn: 0.0153903\ttest: 0.0155095\tbest: 0.0155095 (268)\ttotal: 48.8s\tremaining: 41.9s\n",
            "269:\tlearn: 0.0153833\ttest: 0.0155023\tbest: 0.0155023 (269)\ttotal: 49s\tremaining: 41.7s\n",
            "270:\tlearn: 0.0153788\ttest: 0.0154985\tbest: 0.0154985 (270)\ttotal: 49.2s\tremaining: 41.6s\n",
            "271:\tlearn: 0.0153731\ttest: 0.0154931\tbest: 0.0154931 (271)\ttotal: 49.3s\tremaining: 41.4s\n",
            "272:\tlearn: 0.0153673\ttest: 0.0154878\tbest: 0.0154878 (272)\ttotal: 49.5s\tremaining: 41.2s\n",
            "273:\tlearn: 0.0153560\ttest: 0.0154768\tbest: 0.0154768 (273)\ttotal: 49.7s\tremaining: 41s\n",
            "274:\tlearn: 0.0153419\ttest: 0.0154620\tbest: 0.0154620 (274)\ttotal: 49.9s\tremaining: 40.8s\n",
            "275:\tlearn: 0.0153265\ttest: 0.0154457\tbest: 0.0154457 (275)\ttotal: 50.1s\tremaining: 40.6s\n",
            "276:\tlearn: 0.0153200\ttest: 0.0154390\tbest: 0.0154390 (276)\ttotal: 50.3s\tremaining: 40.5s\n",
            "277:\tlearn: 0.0153092\ttest: 0.0154286\tbest: 0.0154286 (277)\ttotal: 50.5s\tremaining: 40.3s\n",
            "278:\tlearn: 0.0153000\ttest: 0.0154197\tbest: 0.0154197 (278)\ttotal: 50.7s\tremaining: 40.1s\n",
            "279:\tlearn: 0.0152911\ttest: 0.0154107\tbest: 0.0154107 (279)\ttotal: 50.8s\tremaining: 39.9s\n",
            "280:\tlearn: 0.0152860\ttest: 0.0154047\tbest: 0.0154047 (280)\ttotal: 51s\tremaining: 39.8s\n",
            "281:\tlearn: 0.0152804\ttest: 0.0153998\tbest: 0.0153998 (281)\ttotal: 51.2s\tremaining: 39.6s\n",
            "282:\tlearn: 0.0152765\ttest: 0.0153957\tbest: 0.0153957 (282)\ttotal: 51.4s\tremaining: 39.4s\n",
            "283:\tlearn: 0.0152620\ttest: 0.0153812\tbest: 0.0153812 (283)\ttotal: 51.6s\tremaining: 39.2s\n",
            "284:\tlearn: 0.0152573\ttest: 0.0153751\tbest: 0.0153751 (284)\ttotal: 51.7s\tremaining: 39s\n",
            "285:\tlearn: 0.0152486\ttest: 0.0153665\tbest: 0.0153665 (285)\ttotal: 51.9s\tremaining: 38.8s\n",
            "286:\tlearn: 0.0152370\ttest: 0.0153547\tbest: 0.0153547 (286)\ttotal: 52.1s\tremaining: 38.6s\n",
            "287:\tlearn: 0.0152317\ttest: 0.0153493\tbest: 0.0153493 (287)\ttotal: 52.3s\tremaining: 38.5s\n",
            "288:\tlearn: 0.0152211\ttest: 0.0153382\tbest: 0.0153382 (288)\ttotal: 52.5s\tremaining: 38.3s\n",
            "289:\tlearn: 0.0152176\ttest: 0.0153337\tbest: 0.0153337 (289)\ttotal: 52.6s\tremaining: 38.1s\n",
            "290:\tlearn: 0.0152123\ttest: 0.0153305\tbest: 0.0153305 (290)\ttotal: 52.8s\tremaining: 37.9s\n",
            "291:\tlearn: 0.0151944\ttest: 0.0153128\tbest: 0.0153128 (291)\ttotal: 53s\tremaining: 37.7s\n",
            "292:\tlearn: 0.0151914\ttest: 0.0153084\tbest: 0.0153084 (292)\ttotal: 53.1s\tremaining: 37.5s\n",
            "293:\tlearn: 0.0151804\ttest: 0.0152973\tbest: 0.0152973 (293)\ttotal: 53.3s\tremaining: 37.3s\n",
            "294:\tlearn: 0.0151765\ttest: 0.0152931\tbest: 0.0152931 (294)\ttotal: 53.5s\tremaining: 37.2s\n",
            "295:\tlearn: 0.0151719\ttest: 0.0152884\tbest: 0.0152884 (295)\ttotal: 53.6s\tremaining: 37s\n",
            "296:\tlearn: 0.0151641\ttest: 0.0152809\tbest: 0.0152809 (296)\ttotal: 53.8s\tremaining: 36.8s\n",
            "297:\tlearn: 0.0151558\ttest: 0.0152719\tbest: 0.0152719 (297)\ttotal: 54s\tremaining: 36.6s\n",
            "298:\tlearn: 0.0151465\ttest: 0.0152625\tbest: 0.0152625 (298)\ttotal: 54.2s\tremaining: 36.4s\n",
            "299:\tlearn: 0.0151408\ttest: 0.0152573\tbest: 0.0152573 (299)\ttotal: 54.4s\tremaining: 36.2s\n",
            "300:\tlearn: 0.0151378\ttest: 0.0152551\tbest: 0.0152551 (300)\ttotal: 54.6s\tremaining: 36.1s\n",
            "301:\tlearn: 0.0151314\ttest: 0.0152489\tbest: 0.0152489 (301)\ttotal: 54.7s\tremaining: 35.9s\n",
            "302:\tlearn: 0.0151105\ttest: 0.0152279\tbest: 0.0152279 (302)\ttotal: 54.9s\tremaining: 35.7s\n",
            "303:\tlearn: 0.0150986\ttest: 0.0152160\tbest: 0.0152160 (303)\ttotal: 55.2s\tremaining: 35.6s\n",
            "304:\tlearn: 0.0150955\ttest: 0.0152125\tbest: 0.0152125 (304)\ttotal: 55.3s\tremaining: 35.4s\n",
            "305:\tlearn: 0.0150916\ttest: 0.0152085\tbest: 0.0152085 (305)\ttotal: 55.5s\tremaining: 35.2s\n",
            "306:\tlearn: 0.0150834\ttest: 0.0152006\tbest: 0.0152006 (306)\ttotal: 55.7s\tremaining: 35s\n",
            "307:\tlearn: 0.0150712\ttest: 0.0151880\tbest: 0.0151880 (307)\ttotal: 55.9s\tremaining: 34.8s\n",
            "308:\tlearn: 0.0150680\ttest: 0.0151848\tbest: 0.0151848 (308)\ttotal: 56.1s\tremaining: 34.7s\n",
            "309:\tlearn: 0.0150635\ttest: 0.0151811\tbest: 0.0151811 (309)\ttotal: 56.2s\tremaining: 34.5s\n",
            "310:\tlearn: 0.0150607\ttest: 0.0151785\tbest: 0.0151785 (310)\ttotal: 56.4s\tremaining: 34.3s\n",
            "311:\tlearn: 0.0150445\ttest: 0.0151620\tbest: 0.0151620 (311)\ttotal: 56.6s\tremaining: 34.1s\n",
            "312:\tlearn: 0.0150390\ttest: 0.0151566\tbest: 0.0151566 (312)\ttotal: 56.8s\tremaining: 33.9s\n",
            "313:\tlearn: 0.0150362\ttest: 0.0151536\tbest: 0.0151536 (313)\ttotal: 57s\tremaining: 33.8s\n",
            "314:\tlearn: 0.0150298\ttest: 0.0151471\tbest: 0.0151471 (314)\ttotal: 57.2s\tremaining: 33.6s\n",
            "315:\tlearn: 0.0150210\ttest: 0.0151381\tbest: 0.0151381 (315)\ttotal: 57.4s\tremaining: 33.4s\n",
            "316:\tlearn: 0.0150185\ttest: 0.0151347\tbest: 0.0151347 (316)\ttotal: 57.6s\tremaining: 33.2s\n",
            "317:\tlearn: 0.0150117\ttest: 0.0151281\tbest: 0.0151281 (317)\ttotal: 57.8s\tremaining: 33.1s\n",
            "318:\tlearn: 0.0150095\ttest: 0.0151253\tbest: 0.0151253 (318)\ttotal: 57.9s\tremaining: 32.9s\n",
            "319:\tlearn: 0.0150024\ttest: 0.0151193\tbest: 0.0151193 (319)\ttotal: 58.1s\tremaining: 32.7s\n",
            "320:\tlearn: 0.0149898\ttest: 0.0151066\tbest: 0.0151066 (320)\ttotal: 58.3s\tremaining: 32.5s\n",
            "321:\tlearn: 0.0149829\ttest: 0.0151004\tbest: 0.0151004 (321)\ttotal: 58.5s\tremaining: 32.3s\n",
            "322:\tlearn: 0.0149816\ttest: 0.0150999\tbest: 0.0150999 (322)\ttotal: 58.7s\tremaining: 32.2s\n",
            "323:\tlearn: 0.0149754\ttest: 0.0150938\tbest: 0.0150938 (323)\ttotal: 58.9s\tremaining: 32s\n",
            "324:\tlearn: 0.0149649\ttest: 0.0150836\tbest: 0.0150836 (324)\ttotal: 59.1s\tremaining: 31.8s\n",
            "325:\tlearn: 0.0149625\ttest: 0.0150812\tbest: 0.0150812 (325)\ttotal: 59.2s\tremaining: 31.6s\n",
            "326:\tlearn: 0.0149590\ttest: 0.0150775\tbest: 0.0150775 (326)\ttotal: 59.4s\tremaining: 31.4s\n",
            "327:\tlearn: 0.0149514\ttest: 0.0150702\tbest: 0.0150702 (327)\ttotal: 59.5s\tremaining: 31.2s\n",
            "328:\tlearn: 0.0149438\ttest: 0.0150628\tbest: 0.0150628 (328)\ttotal: 59.7s\tremaining: 31s\n",
            "329:\tlearn: 0.0149363\ttest: 0.0150553\tbest: 0.0150553 (329)\ttotal: 59.8s\tremaining: 30.8s\n",
            "330:\tlearn: 0.0149309\ttest: 0.0150501\tbest: 0.0150501 (330)\ttotal: 1m\tremaining: 30.6s\n",
            "331:\tlearn: 0.0149271\ttest: 0.0150469\tbest: 0.0150469 (331)\ttotal: 1m\tremaining: 30.5s\n",
            "332:\tlearn: 0.0149223\ttest: 0.0150434\tbest: 0.0150434 (332)\ttotal: 1m\tremaining: 30.3s\n",
            "333:\tlearn: 0.0149206\ttest: 0.0150418\tbest: 0.0150418 (333)\ttotal: 1m\tremaining: 30.1s\n",
            "334:\tlearn: 0.0149125\ttest: 0.0150320\tbest: 0.0150320 (334)\ttotal: 1m\tremaining: 29.9s\n",
            "335:\tlearn: 0.0149039\ttest: 0.0150236\tbest: 0.0150236 (335)\ttotal: 1m\tremaining: 29.7s\n",
            "336:\tlearn: 0.0148993\ttest: 0.0150197\tbest: 0.0150197 (336)\ttotal: 1m 1s\tremaining: 29.5s\n",
            "337:\tlearn: 0.0148917\ttest: 0.0150123\tbest: 0.0150123 (337)\ttotal: 1m 1s\tremaining: 29.3s\n",
            "338:\tlearn: 0.0148788\ttest: 0.0149995\tbest: 0.0149995 (338)\ttotal: 1m 1s\tremaining: 29.2s\n",
            "339:\tlearn: 0.0148771\ttest: 0.0149976\tbest: 0.0149976 (339)\ttotal: 1m 1s\tremaining: 29s\n",
            "340:\tlearn: 0.0148721\ttest: 0.0149933\tbest: 0.0149933 (340)\ttotal: 1m 1s\tremaining: 28.8s\n",
            "341:\tlearn: 0.0148705\ttest: 0.0149912\tbest: 0.0149912 (341)\ttotal: 1m 1s\tremaining: 28.6s\n",
            "342:\tlearn: 0.0148646\ttest: 0.0149853\tbest: 0.0149853 (342)\ttotal: 1m 2s\tremaining: 28.4s\n",
            "343:\tlearn: 0.0148590\ttest: 0.0149797\tbest: 0.0149797 (343)\ttotal: 1m 2s\tremaining: 28.2s\n",
            "344:\tlearn: 0.0148498\ttest: 0.0149707\tbest: 0.0149707 (344)\ttotal: 1m 2s\tremaining: 28.2s\n",
            "345:\tlearn: 0.0148466\ttest: 0.0149667\tbest: 0.0149667 (345)\ttotal: 1m 3s\tremaining: 28s\n",
            "346:\tlearn: 0.0148424\ttest: 0.0149625\tbest: 0.0149625 (346)\ttotal: 1m 3s\tremaining: 27.9s\n",
            "347:\tlearn: 0.0148395\ttest: 0.0149594\tbest: 0.0149594 (347)\ttotal: 1m 3s\tremaining: 27.8s\n",
            "348:\tlearn: 0.0148365\ttest: 0.0149565\tbest: 0.0149565 (348)\ttotal: 1m 3s\tremaining: 27.6s\n",
            "349:\tlearn: 0.0148296\ttest: 0.0149501\tbest: 0.0149501 (349)\ttotal: 1m 4s\tremaining: 27.5s\n",
            "350:\tlearn: 0.0148222\ttest: 0.0149424\tbest: 0.0149424 (350)\ttotal: 1m 4s\tremaining: 27.3s\n",
            "351:\tlearn: 0.0148199\ttest: 0.0149405\tbest: 0.0149405 (351)\ttotal: 1m 4s\tremaining: 27.2s\n",
            "352:\tlearn: 0.0148154\ttest: 0.0149372\tbest: 0.0149372 (352)\ttotal: 1m 4s\tremaining: 27s\n",
            "353:\tlearn: 0.0148088\ttest: 0.0149310\tbest: 0.0149310 (353)\ttotal: 1m 5s\tremaining: 26.9s\n",
            "354:\tlearn: 0.0148047\ttest: 0.0149279\tbest: 0.0149279 (354)\ttotal: 1m 5s\tremaining: 26.7s\n",
            "355:\tlearn: 0.0148000\ttest: 0.0149219\tbest: 0.0149219 (355)\ttotal: 1m 5s\tremaining: 26.6s\n",
            "356:\tlearn: 0.0147908\ttest: 0.0149124\tbest: 0.0149124 (356)\ttotal: 1m 6s\tremaining: 26.5s\n",
            "357:\tlearn: 0.0147866\ttest: 0.0149077\tbest: 0.0149077 (357)\ttotal: 1m 6s\tremaining: 26.4s\n",
            "358:\tlearn: 0.0147845\ttest: 0.0149045\tbest: 0.0149045 (358)\ttotal: 1m 6s\tremaining: 26.2s\n",
            "359:\tlearn: 0.0147700\ttest: 0.0148898\tbest: 0.0148898 (359)\ttotal: 1m 7s\tremaining: 26.1s\n",
            "360:\tlearn: 0.0147650\ttest: 0.0148848\tbest: 0.0148848 (360)\ttotal: 1m 7s\tremaining: 26s\n",
            "361:\tlearn: 0.0147546\ttest: 0.0148741\tbest: 0.0148741 (361)\ttotal: 1m 7s\tremaining: 25.9s\n",
            "362:\tlearn: 0.0147485\ttest: 0.0148682\tbest: 0.0148682 (362)\ttotal: 1m 8s\tremaining: 25.9s\n",
            "363:\tlearn: 0.0147459\ttest: 0.0148657\tbest: 0.0148657 (363)\ttotal: 1m 8s\tremaining: 25.6s\n",
            "364:\tlearn: 0.0147437\ttest: 0.0148643\tbest: 0.0148643 (364)\ttotal: 1m 8s\tremaining: 25.4s\n",
            "365:\tlearn: 0.0147409\ttest: 0.0148608\tbest: 0.0148608 (365)\ttotal: 1m 8s\tremaining: 25.2s\n",
            "366:\tlearn: 0.0147344\ttest: 0.0148545\tbest: 0.0148545 (366)\ttotal: 1m 9s\tremaining: 25s\n",
            "367:\tlearn: 0.0147306\ttest: 0.0148510\tbest: 0.0148510 (367)\ttotal: 1m 9s\tremaining: 24.8s\n",
            "368:\tlearn: 0.0147290\ttest: 0.0148485\tbest: 0.0148485 (368)\ttotal: 1m 9s\tremaining: 24.6s\n",
            "369:\tlearn: 0.0147201\ttest: 0.0148396\tbest: 0.0148396 (369)\ttotal: 1m 9s\tremaining: 24.4s\n",
            "370:\tlearn: 0.0147172\ttest: 0.0148354\tbest: 0.0148354 (370)\ttotal: 1m 9s\tremaining: 24.2s\n",
            "371:\tlearn: 0.0147119\ttest: 0.0148310\tbest: 0.0148310 (371)\ttotal: 1m 9s\tremaining: 24s\n",
            "372:\tlearn: 0.0147091\ttest: 0.0148283\tbest: 0.0148283 (372)\ttotal: 1m 9s\tremaining: 23.8s\n",
            "373:\tlearn: 0.0147016\ttest: 0.0148208\tbest: 0.0148208 (373)\ttotal: 1m 10s\tremaining: 23.7s\n",
            "374:\tlearn: 0.0146940\ttest: 0.0148131\tbest: 0.0148131 (374)\ttotal: 1m 10s\tremaining: 23.5s\n",
            "375:\tlearn: 0.0146906\ttest: 0.0148109\tbest: 0.0148109 (375)\ttotal: 1m 10s\tremaining: 23.3s\n",
            "376:\tlearn: 0.0146867\ttest: 0.0148071\tbest: 0.0148071 (376)\ttotal: 1m 10s\tremaining: 23.1s\n",
            "377:\tlearn: 0.0146810\ttest: 0.0148012\tbest: 0.0148012 (377)\ttotal: 1m 10s\tremaining: 22.9s\n",
            "378:\tlearn: 0.0146783\ttest: 0.0147995\tbest: 0.0147995 (378)\ttotal: 1m 11s\tremaining: 22.7s\n",
            "379:\tlearn: 0.0146728\ttest: 0.0147943\tbest: 0.0147943 (379)\ttotal: 1m 11s\tremaining: 22.5s\n",
            "380:\tlearn: 0.0146699\ttest: 0.0147919\tbest: 0.0147919 (380)\ttotal: 1m 11s\tremaining: 22.3s\n",
            "381:\tlearn: 0.0146641\ttest: 0.0147867\tbest: 0.0147867 (381)\ttotal: 1m 11s\tremaining: 22.1s\n",
            "382:\tlearn: 0.0146627\ttest: 0.0147848\tbest: 0.0147848 (382)\ttotal: 1m 11s\tremaining: 21.9s\n",
            "383:\tlearn: 0.0146610\ttest: 0.0147824\tbest: 0.0147824 (383)\ttotal: 1m 11s\tremaining: 21.7s\n",
            "384:\tlearn: 0.0146560\ttest: 0.0147777\tbest: 0.0147777 (384)\ttotal: 1m 12s\tremaining: 21.5s\n",
            "385:\tlearn: 0.0146502\ttest: 0.0147724\tbest: 0.0147724 (385)\ttotal: 1m 12s\tremaining: 21.3s\n",
            "386:\tlearn: 0.0146465\ttest: 0.0147697\tbest: 0.0147697 (386)\ttotal: 1m 12s\tremaining: 21.1s\n",
            "387:\tlearn: 0.0146412\ttest: 0.0147626\tbest: 0.0147626 (387)\ttotal: 1m 12s\tremaining: 20.9s\n",
            "388:\tlearn: 0.0146355\ttest: 0.0147578\tbest: 0.0147578 (388)\ttotal: 1m 12s\tremaining: 20.8s\n",
            "389:\tlearn: 0.0146317\ttest: 0.0147538\tbest: 0.0147538 (389)\ttotal: 1m 12s\tremaining: 20.6s\n",
            "390:\tlearn: 0.0146285\ttest: 0.0147515\tbest: 0.0147515 (390)\ttotal: 1m 13s\tremaining: 20.4s\n",
            "391:\tlearn: 0.0146255\ttest: 0.0147488\tbest: 0.0147488 (391)\ttotal: 1m 13s\tremaining: 20.2s\n",
            "392:\tlearn: 0.0146233\ttest: 0.0147473\tbest: 0.0147473 (392)\ttotal: 1m 13s\tremaining: 20s\n",
            "393:\tlearn: 0.0146152\ttest: 0.0147400\tbest: 0.0147400 (393)\ttotal: 1m 13s\tremaining: 19.8s\n",
            "394:\tlearn: 0.0146136\ttest: 0.0147387\tbest: 0.0147387 (394)\ttotal: 1m 13s\tremaining: 19.6s\n",
            "395:\tlearn: 0.0146108\ttest: 0.0147357\tbest: 0.0147357 (395)\ttotal: 1m 13s\tremaining: 19.4s\n",
            "396:\tlearn: 0.0146086\ttest: 0.0147345\tbest: 0.0147345 (396)\ttotal: 1m 14s\tremaining: 19.2s\n",
            "397:\tlearn: 0.0146001\ttest: 0.0147265\tbest: 0.0147265 (397)\ttotal: 1m 14s\tremaining: 19s\n",
            "398:\tlearn: 0.0145972\ttest: 0.0147242\tbest: 0.0147242 (398)\ttotal: 1m 14s\tremaining: 18.8s\n",
            "399:\tlearn: 0.0145926\ttest: 0.0147178\tbest: 0.0147178 (399)\ttotal: 1m 14s\tremaining: 18.6s\n",
            "400:\tlearn: 0.0145876\ttest: 0.0147135\tbest: 0.0147135 (400)\ttotal: 1m 14s\tremaining: 18.4s\n",
            "401:\tlearn: 0.0145824\ttest: 0.0147091\tbest: 0.0147091 (401)\ttotal: 1m 14s\tremaining: 18.3s\n",
            "402:\tlearn: 0.0145808\ttest: 0.0147076\tbest: 0.0147076 (402)\ttotal: 1m 15s\tremaining: 18.1s\n",
            "403:\tlearn: 0.0145723\ttest: 0.0146990\tbest: 0.0146990 (403)\ttotal: 1m 15s\tremaining: 17.9s\n",
            "404:\tlearn: 0.0145672\ttest: 0.0146941\tbest: 0.0146941 (404)\ttotal: 1m 15s\tremaining: 17.7s\n",
            "405:\tlearn: 0.0145609\ttest: 0.0146868\tbest: 0.0146868 (405)\ttotal: 1m 15s\tremaining: 17.5s\n",
            "406:\tlearn: 0.0145548\ttest: 0.0146816\tbest: 0.0146816 (406)\ttotal: 1m 15s\tremaining: 17.3s\n",
            "407:\tlearn: 0.0145508\ttest: 0.0146778\tbest: 0.0146778 (407)\ttotal: 1m 15s\tremaining: 17.1s\n",
            "408:\tlearn: 0.0145476\ttest: 0.0146746\tbest: 0.0146746 (408)\ttotal: 1m 16s\tremaining: 16.9s\n",
            "409:\tlearn: 0.0145385\ttest: 0.0146659\tbest: 0.0146659 (409)\ttotal: 1m 16s\tremaining: 16.7s\n",
            "410:\tlearn: 0.0145328\ttest: 0.0146601\tbest: 0.0146601 (410)\ttotal: 1m 16s\tremaining: 16.6s\n",
            "411:\tlearn: 0.0145289\ttest: 0.0146561\tbest: 0.0146561 (411)\ttotal: 1m 16s\tremaining: 16.4s\n",
            "412:\tlearn: 0.0145264\ttest: 0.0146543\tbest: 0.0146543 (412)\ttotal: 1m 16s\tremaining: 16.2s\n",
            "413:\tlearn: 0.0145227\ttest: 0.0146505\tbest: 0.0146505 (413)\ttotal: 1m 16s\tremaining: 16s\n",
            "414:\tlearn: 0.0145105\ttest: 0.0146379\tbest: 0.0146379 (414)\ttotal: 1m 17s\tremaining: 15.8s\n",
            "415:\tlearn: 0.0145069\ttest: 0.0146345\tbest: 0.0146345 (415)\ttotal: 1m 17s\tremaining: 15.6s\n",
            "416:\tlearn: 0.0145046\ttest: 0.0146327\tbest: 0.0146327 (416)\ttotal: 1m 17s\tremaining: 15.4s\n",
            "417:\tlearn: 0.0145019\ttest: 0.0146296\tbest: 0.0146296 (417)\ttotal: 1m 17s\tremaining: 15.2s\n",
            "418:\tlearn: 0.0145014\ttest: 0.0146294\tbest: 0.0146294 (418)\ttotal: 1m 17s\tremaining: 15s\n",
            "419:\tlearn: 0.0145001\ttest: 0.0146282\tbest: 0.0146282 (419)\ttotal: 1m 17s\tremaining: 14.8s\n",
            "420:\tlearn: 0.0144946\ttest: 0.0146227\tbest: 0.0146227 (420)\ttotal: 1m 18s\tremaining: 14.7s\n",
            "421:\tlearn: 0.0144881\ttest: 0.0146162\tbest: 0.0146162 (421)\ttotal: 1m 18s\tremaining: 14.5s\n",
            "422:\tlearn: 0.0144811\ttest: 0.0146103\tbest: 0.0146103 (422)\ttotal: 1m 18s\tremaining: 14.3s\n",
            "423:\tlearn: 0.0144783\ttest: 0.0146081\tbest: 0.0146081 (423)\ttotal: 1m 18s\tremaining: 14.1s\n",
            "424:\tlearn: 0.0144743\ttest: 0.0146043\tbest: 0.0146043 (424)\ttotal: 1m 18s\tremaining: 13.9s\n",
            "425:\tlearn: 0.0144654\ttest: 0.0145955\tbest: 0.0145955 (425)\ttotal: 1m 19s\tremaining: 13.8s\n",
            "426:\tlearn: 0.0144629\ttest: 0.0145925\tbest: 0.0145925 (426)\ttotal: 1m 19s\tremaining: 13.6s\n",
            "427:\tlearn: 0.0144594\ttest: 0.0145900\tbest: 0.0145900 (427)\ttotal: 1m 19s\tremaining: 13.4s\n",
            "428:\tlearn: 0.0144531\ttest: 0.0145848\tbest: 0.0145848 (428)\ttotal: 1m 19s\tremaining: 13.2s\n",
            "429:\tlearn: 0.0144479\ttest: 0.0145798\tbest: 0.0145798 (429)\ttotal: 1m 19s\tremaining: 13s\n",
            "430:\tlearn: 0.0144413\ttest: 0.0145735\tbest: 0.0145735 (430)\ttotal: 1m 20s\tremaining: 12.8s\n",
            "431:\tlearn: 0.0144400\ttest: 0.0145727\tbest: 0.0145727 (431)\ttotal: 1m 20s\tremaining: 12.6s\n",
            "432:\tlearn: 0.0144369\ttest: 0.0145692\tbest: 0.0145692 (432)\ttotal: 1m 20s\tremaining: 12.4s\n",
            "433:\tlearn: 0.0144349\ttest: 0.0145673\tbest: 0.0145673 (433)\ttotal: 1m 20s\tremaining: 12.2s\n",
            "434:\tlearn: 0.0144327\ttest: 0.0145646\tbest: 0.0145646 (434)\ttotal: 1m 20s\tremaining: 12.1s\n",
            "435:\tlearn: 0.0144305\ttest: 0.0145632\tbest: 0.0145632 (435)\ttotal: 1m 20s\tremaining: 11.9s\n",
            "436:\tlearn: 0.0144259\ttest: 0.0145585\tbest: 0.0145585 (436)\ttotal: 1m 21s\tremaining: 11.7s\n",
            "437:\tlearn: 0.0144233\ttest: 0.0145558\tbest: 0.0145558 (437)\ttotal: 1m 21s\tremaining: 11.5s\n",
            "438:\tlearn: 0.0144205\ttest: 0.0145526\tbest: 0.0145526 (438)\ttotal: 1m 21s\tremaining: 11.3s\n",
            "439:\tlearn: 0.0144198\ttest: 0.0145520\tbest: 0.0145520 (439)\ttotal: 1m 21s\tremaining: 11.1s\n",
            "440:\tlearn: 0.0144170\ttest: 0.0145488\tbest: 0.0145488 (440)\ttotal: 1m 21s\tremaining: 10.9s\n",
            "441:\tlearn: 0.0144126\ttest: 0.0145452\tbest: 0.0145452 (441)\ttotal: 1m 21s\tremaining: 10.8s\n",
            "442:\tlearn: 0.0144116\ttest: 0.0145443\tbest: 0.0145443 (442)\ttotal: 1m 22s\tremaining: 10.6s\n",
            "443:\tlearn: 0.0144098\ttest: 0.0145421\tbest: 0.0145421 (443)\ttotal: 1m 22s\tremaining: 10.4s\n",
            "444:\tlearn: 0.0144073\ttest: 0.0145392\tbest: 0.0145392 (444)\ttotal: 1m 22s\tremaining: 10.2s\n",
            "445:\tlearn: 0.0144000\ttest: 0.0145319\tbest: 0.0145319 (445)\ttotal: 1m 22s\tremaining: 10s\n",
            "446:\tlearn: 0.0143973\ttest: 0.0145295\tbest: 0.0145295 (446)\ttotal: 1m 22s\tremaining: 9.82s\n",
            "447:\tlearn: 0.0143970\ttest: 0.0145296\tbest: 0.0145295 (446)\ttotal: 1m 23s\tremaining: 9.64s\n",
            "448:\tlearn: 0.0143944\ttest: 0.0145273\tbest: 0.0145273 (448)\ttotal: 1m 23s\tremaining: 9.45s\n",
            "449:\tlearn: 0.0143927\ttest: 0.0145254\tbest: 0.0145254 (449)\ttotal: 1m 23s\tremaining: 9.26s\n",
            "450:\tlearn: 0.0143908\ttest: 0.0145243\tbest: 0.0145243 (450)\ttotal: 1m 23s\tremaining: 9.07s\n",
            "451:\tlearn: 0.0143882\ttest: 0.0145226\tbest: 0.0145226 (451)\ttotal: 1m 23s\tremaining: 8.89s\n",
            "452:\tlearn: 0.0143868\ttest: 0.0145209\tbest: 0.0145209 (452)\ttotal: 1m 23s\tremaining: 8.7s\n",
            "453:\tlearn: 0.0143841\ttest: 0.0145184\tbest: 0.0145184 (453)\ttotal: 1m 24s\tremaining: 8.51s\n",
            "454:\tlearn: 0.0143804\ttest: 0.0145149\tbest: 0.0145149 (454)\ttotal: 1m 24s\tremaining: 8.32s\n",
            "455:\tlearn: 0.0143787\ttest: 0.0145127\tbest: 0.0145127 (455)\ttotal: 1m 24s\tremaining: 8.13s\n",
            "456:\tlearn: 0.0143768\ttest: 0.0145102\tbest: 0.0145102 (456)\ttotal: 1m 24s\tremaining: 7.94s\n",
            "457:\tlearn: 0.0143744\ttest: 0.0145077\tbest: 0.0145077 (457)\ttotal: 1m 24s\tremaining: 7.76s\n",
            "458:\tlearn: 0.0143683\ttest: 0.0145026\tbest: 0.0145026 (458)\ttotal: 1m 24s\tremaining: 7.57s\n",
            "459:\tlearn: 0.0143677\ttest: 0.0145022\tbest: 0.0145022 (459)\ttotal: 1m 24s\tremaining: 7.38s\n",
            "460:\tlearn: 0.0143585\ttest: 0.0144928\tbest: 0.0144928 (460)\ttotal: 1m 25s\tremaining: 7.2s\n",
            "461:\tlearn: 0.0143564\ttest: 0.0144910\tbest: 0.0144910 (461)\ttotal: 1m 25s\tremaining: 7.01s\n",
            "462:\tlearn: 0.0143546\ttest: 0.0144894\tbest: 0.0144894 (462)\ttotal: 1m 25s\tremaining: 6.82s\n",
            "463:\tlearn: 0.0143498\ttest: 0.0144850\tbest: 0.0144850 (463)\ttotal: 1m 25s\tremaining: 6.64s\n",
            "464:\tlearn: 0.0143480\ttest: 0.0144832\tbest: 0.0144832 (464)\ttotal: 1m 25s\tremaining: 6.45s\n",
            "465:\tlearn: 0.0143462\ttest: 0.0144822\tbest: 0.0144822 (465)\ttotal: 1m 25s\tremaining: 6.26s\n",
            "466:\tlearn: 0.0143452\ttest: 0.0144815\tbest: 0.0144815 (466)\ttotal: 1m 26s\tremaining: 6.08s\n",
            "467:\tlearn: 0.0143451\ttest: 0.0144807\tbest: 0.0144807 (467)\ttotal: 1m 26s\tremaining: 5.89s\n",
            "468:\tlearn: 0.0143365\ttest: 0.0144720\tbest: 0.0144720 (468)\ttotal: 1m 26s\tremaining: 5.7s\n",
            "469:\tlearn: 0.0143346\ttest: 0.0144702\tbest: 0.0144702 (469)\ttotal: 1m 26s\tremaining: 5.52s\n",
            "470:\tlearn: 0.0143330\ttest: 0.0144680\tbest: 0.0144680 (470)\ttotal: 1m 26s\tremaining: 5.33s\n",
            "471:\tlearn: 0.0143255\ttest: 0.0144607\tbest: 0.0144607 (471)\ttotal: 1m 26s\tremaining: 5.15s\n",
            "472:\tlearn: 0.0143209\ttest: 0.0144560\tbest: 0.0144560 (472)\ttotal: 1m 26s\tremaining: 4.96s\n",
            "473:\tlearn: 0.0143190\ttest: 0.0144536\tbest: 0.0144536 (473)\ttotal: 1m 27s\tremaining: 4.78s\n",
            "474:\tlearn: 0.0143142\ttest: 0.0144495\tbest: 0.0144495 (474)\ttotal: 1m 27s\tremaining: 4.59s\n",
            "475:\tlearn: 0.0143084\ttest: 0.0144446\tbest: 0.0144446 (475)\ttotal: 1m 27s\tremaining: 4.41s\n",
            "476:\tlearn: 0.0143063\ttest: 0.0144432\tbest: 0.0144432 (476)\ttotal: 1m 27s\tremaining: 4.22s\n",
            "477:\tlearn: 0.0143044\ttest: 0.0144409\tbest: 0.0144409 (477)\ttotal: 1m 27s\tremaining: 4.04s\n",
            "478:\tlearn: 0.0142965\ttest: 0.0144327\tbest: 0.0144327 (478)\ttotal: 1m 28s\tremaining: 3.86s\n",
            "479:\tlearn: 0.0142929\ttest: 0.0144299\tbest: 0.0144299 (479)\ttotal: 1m 28s\tremaining: 3.67s\n",
            "480:\tlearn: 0.0142913\ttest: 0.0144288\tbest: 0.0144288 (480)\ttotal: 1m 28s\tremaining: 3.49s\n",
            "481:\tlearn: 0.0142880\ttest: 0.0144260\tbest: 0.0144260 (481)\ttotal: 1m 28s\tremaining: 3.31s\n",
            "482:\tlearn: 0.0142856\ttest: 0.0144239\tbest: 0.0144239 (482)\ttotal: 1m 28s\tremaining: 3.12s\n",
            "483:\tlearn: 0.0142840\ttest: 0.0144224\tbest: 0.0144224 (483)\ttotal: 1m 28s\tremaining: 2.94s\n",
            "484:\tlearn: 0.0142812\ttest: 0.0144196\tbest: 0.0144196 (484)\ttotal: 1m 29s\tremaining: 2.75s\n",
            "485:\tlearn: 0.0142799\ttest: 0.0144176\tbest: 0.0144176 (485)\ttotal: 1m 29s\tremaining: 2.57s\n",
            "486:\tlearn: 0.0142754\ttest: 0.0144129\tbest: 0.0144129 (486)\ttotal: 1m 29s\tremaining: 2.38s\n",
            "487:\tlearn: 0.0142750\ttest: 0.0144126\tbest: 0.0144126 (487)\ttotal: 1m 29s\tremaining: 2.2s\n",
            "488:\tlearn: 0.0142713\ttest: 0.0144095\tbest: 0.0144095 (488)\ttotal: 1m 29s\tremaining: 2.02s\n",
            "489:\tlearn: 0.0142679\ttest: 0.0144073\tbest: 0.0144073 (489)\ttotal: 1m 29s\tremaining: 1.83s\n",
            "490:\tlearn: 0.0142645\ttest: 0.0144043\tbest: 0.0144043 (490)\ttotal: 1m 30s\tremaining: 1.65s\n",
            "491:\tlearn: 0.0142640\ttest: 0.0144035\tbest: 0.0144035 (491)\ttotal: 1m 30s\tremaining: 1.47s\n",
            "492:\tlearn: 0.0142625\ttest: 0.0144026\tbest: 0.0144026 (492)\ttotal: 1m 30s\tremaining: 1.28s\n",
            "493:\tlearn: 0.0142597\ttest: 0.0143997\tbest: 0.0143997 (493)\ttotal: 1m 30s\tremaining: 1.1s\n",
            "494:\tlearn: 0.0142552\ttest: 0.0143951\tbest: 0.0143951 (494)\ttotal: 1m 30s\tremaining: 916ms\n",
            "495:\tlearn: 0.0142518\ttest: 0.0143913\tbest: 0.0143913 (495)\ttotal: 1m 30s\tremaining: 732ms\n",
            "496:\tlearn: 0.0142489\ttest: 0.0143885\tbest: 0.0143885 (496)\ttotal: 1m 31s\tremaining: 550ms\n",
            "497:\tlearn: 0.0142480\ttest: 0.0143874\tbest: 0.0143874 (497)\ttotal: 1m 31s\tremaining: 366ms\n",
            "498:\tlearn: 0.0142451\ttest: 0.0143837\tbest: 0.0143837 (498)\ttotal: 1m 31s\tremaining: 183ms\n",
            "499:\tlearn: 0.0142418\ttest: 0.0143794\tbest: 0.0143794 (499)\ttotal: 1m 31s\tremaining: 0us\n",
            "\n",
            "bestTest = 0.01437943913\n",
            "bestIteration = 499\n",
            "\n"
          ]
        }
      ]
    },
    {
      "cell_type": "code",
      "source": [
        "print(f\"TEST mape: {(mape(y_test, np.exp(preds)))}%\")"
      ],
      "metadata": {
        "colab": {
          "base_uri": "https://localhost:8080/"
        },
        "id": "ixzCULkiN5tQ",
        "outputId": "96514648-d1cc-4959-ebae-5b4f875ecd7f"
      },
      "execution_count": 115,
      "outputs": [
        {
          "output_type": "stream",
          "name": "stdout",
          "text": [
            "TEST mape: 1.7967872287796862%\n"
          ]
        }
      ]
    },
    {
      "cell_type": "markdown",
      "source": [
        "**TEST mape: 1.7967872287796862%**"
      ],
      "metadata": {
        "id": "9KBycEImSEED"
      }
    },
    {
      "cell_type": "code",
      "source": [
        "preds_val = model.predict(X_val)"
      ],
      "metadata": {
        "id": "Pyf0ZMxwPi0f"
      },
      "execution_count": 116,
      "outputs": []
    },
    {
      "cell_type": "code",
      "source": [
        "print(f\"Validation mape: {(mape(y_val, np.exp(preds_val)))}%\")"
      ],
      "metadata": {
        "colab": {
          "base_uri": "https://localhost:8080/"
        },
        "id": "vocitL4LPn_a",
        "outputId": "a7d73dee-9cd2-4cbd-8f5b-96aa9363f96f"
      },
      "execution_count": 118,
      "outputs": [
        {
          "output_type": "stream",
          "name": "stdout",
          "text": [
            "Validation mape: 7.165714989962479%\n"
          ]
        }
      ]
    },
    {
      "cell_type": "markdown",
      "source": [
        "**Validation mape: 7.165714989962479%**"
      ],
      "metadata": {
        "id": "9pOIRAn3SGjM"
      }
    },
    {
      "cell_type": "markdown",
      "source": [
        "# **LinearRegression (Baseline)**"
      ],
      "metadata": {
        "id": "vcpyaaGmKgp6"
      }
    },
    {
      "cell_type": "code",
      "source": [
        "from sklearn import linear_model"
      ],
      "metadata": {
        "id": "65YIJ9PsKhBi"
      },
      "execution_count": 155,
      "outputs": []
    },
    {
      "cell_type": "code",
      "source": [
        "model = linear_model.LinearRegression()"
      ],
      "metadata": {
        "id": "F1TFT1hlK1qu"
      },
      "execution_count": 156,
      "outputs": []
    },
    {
      "cell_type": "code",
      "source": [
        "model.fit(X_train, y_train)"
      ],
      "metadata": {
        "colab": {
          "base_uri": "https://localhost:8080/"
        },
        "id": "vMa52shOK_Aj",
        "outputId": "9e3cd2a9-a466-4d53-cca7-18e4fa0a6e5d"
      },
      "execution_count": 174,
      "outputs": [
        {
          "output_type": "execute_result",
          "data": {
            "text/plain": [
              "LinearRegression()"
            ]
          },
          "metadata": {},
          "execution_count": 174
        }
      ]
    },
    {
      "cell_type": "code",
      "source": [
        "preds = model.predict(X_test)"
      ],
      "metadata": {
        "id": "9EDxBlS3LFPc"
      },
      "execution_count": 175,
      "outputs": []
    },
    {
      "cell_type": "code",
      "source": [
        "np.exp(preds).value_counts()"
      ],
      "metadata": {
        "colab": {
          "base_uri": "https://localhost:8080/",
          "height": 200
        },
        "id": "mmUpGXyzLibE",
        "outputId": "1fb9c425-cf6a-4ec3-aad6-980729eaad9c"
      },
      "execution_count": 173,
      "outputs": [
        {
          "output_type": "stream",
          "name": "stderr",
          "text": [
            "/usr/local/lib/python3.7/dist-packages/ipykernel_launcher.py:1: RuntimeWarning: overflow encountered in exp\n",
            "  \"\"\"Entry point for launching an IPython kernel.\n"
          ]
        },
        {
          "output_type": "error",
          "ename": "AttributeError",
          "evalue": "ignored",
          "traceback": [
            "\u001b[0;31m---------------------------------------------------------------------------\u001b[0m",
            "\u001b[0;31mAttributeError\u001b[0m                            Traceback (most recent call last)",
            "\u001b[0;32m<ipython-input-173-d70057f92a29>\u001b[0m in \u001b[0;36m<module>\u001b[0;34m()\u001b[0m\n\u001b[0;32m----> 1\u001b[0;31m \u001b[0mnp\u001b[0m\u001b[0;34m.\u001b[0m\u001b[0mexp\u001b[0m\u001b[0;34m(\u001b[0m\u001b[0mpreds\u001b[0m\u001b[0;34m)\u001b[0m\u001b[0;34m.\u001b[0m\u001b[0mvalue_counts\u001b[0m\u001b[0;34m(\u001b[0m\u001b[0;34m)\u001b[0m\u001b[0;34m\u001b[0m\u001b[0;34m\u001b[0m\u001b[0m\n\u001b[0m",
            "\u001b[0;31mAttributeError\u001b[0m: 'numpy.ndarray' object has no attribute 'value_counts'"
          ]
        }
      ]
    },
    {
      "cell_type": "code",
      "source": [
        "print(f\"TEST mape: {(mape(y_test, preds))}%\")"
      ],
      "metadata": {
        "colab": {
          "base_uri": "https://localhost:8080/"
        },
        "id": "V1-01jA4LKh5",
        "outputId": "f3b0a764-8c7a-4e0b-d80e-a3a46e0aa7b4"
      },
      "execution_count": 176,
      "outputs": [
        {
          "output_type": "stream",
          "name": "stdout",
          "text": [
            "TEST mape: 21.494000327445242%\n"
          ]
        }
      ]
    },
    {
      "cell_type": "markdown",
      "source": [
        "**TEST mape: 21.494000327445242%**"
      ],
      "metadata": {
        "id": "PmX6UL7qMnxy"
      }
    },
    {
      "cell_type": "code",
      "source": [
        "print(f\"TEST mae: {(mean_absolute_error(y_test, preds))}\")"
      ],
      "metadata": {
        "colab": {
          "base_uri": "https://localhost:8080/"
        },
        "id": "bIFaKLO_Ly6x",
        "outputId": "18c5fd91-0a0c-496b-f1ab-3d0cce12dc44"
      },
      "execution_count": 177,
      "outputs": [
        {
          "output_type": "stream",
          "name": "stdout",
          "text": [
            "TEST mae: 624289.200913713\n"
          ]
        }
      ]
    },
    {
      "cell_type": "markdown",
      "source": [
        "**TEST mae: 624289.200913713**"
      ],
      "metadata": {
        "id": "WlwGD-zZMp4n"
      }
    },
    {
      "cell_type": "code",
      "source": [
        "preds_val = model.predict(X_val)"
      ],
      "metadata": {
        "id": "QP4Z0BlcMZIU"
      },
      "execution_count": 179,
      "outputs": []
    },
    {
      "cell_type": "code",
      "source": [
        "print(f\"Validation mape: {(mape(y_val, preds_val))}%\")"
      ],
      "metadata": {
        "colab": {
          "base_uri": "https://localhost:8080/"
        },
        "id": "KjIUq4LuMcdx",
        "outputId": "17d84e70-7ef5-40c7-cdeb-76bf55f1cff7"
      },
      "execution_count": 180,
      "outputs": [
        {
          "output_type": "stream",
          "name": "stdout",
          "text": [
            "Validation mape: 33.044020153163785%\n"
          ]
        }
      ]
    },
    {
      "cell_type": "markdown",
      "source": [
        "**Validation mape: 33.044020153163785%**"
      ],
      "metadata": {
        "id": "7sjP9dXCMr7D"
      }
    },
    {
      "cell_type": "code",
      "source": [
        "print(f\"Validation mae: {(mean_absolute_error(y_val, preds_val))}\")"
      ],
      "metadata": {
        "colab": {
          "base_uri": "https://localhost:8080/"
        },
        "id": "92fwYaF6Mc_U",
        "outputId": "c49cbab6-6b6d-4131-f194-e496025a0a0c"
      },
      "execution_count": 182,
      "outputs": [
        {
          "output_type": "stream",
          "name": "stdout",
          "text": [
            "Validation mae: 543588.6908563941\n"
          ]
        }
      ]
    },
    {
      "cell_type": "markdown",
      "source": [
        "**Validation mae: 543588.6908563941**"
      ],
      "metadata": {
        "id": "2AwRA-cqMuC1"
      }
    },
    {
      "cell_type": "markdown",
      "source": [
        "# **XGBoost**"
      ],
      "metadata": {
        "id": "b-Uu5XRDK2Qp"
      }
    },
    {
      "cell_type": "code",
      "source": [
        "df_xg = df.copy()\n",
        "\n",
        "# Label Encoding\n",
        "for column in cat_cols:\n",
        "    df_xg[column] = df_xg[column].astype('category').cat.codes\n",
        "\n",
        "for column in bin_cols:\n",
        "    df_xg[column] = df_xg[column].astype('category').cat.codes\n",
        "    \n",
        "# One-Hot Encoding: в pandas есть готовая функция - get_dummies.\n",
        "df_xg = pd.get_dummies(df_xg, columns=cat_cols, dummy_na=False)\n",
        "df_xg = pd.get_dummies(df_xg, columns=bin_cols, dummy_na=False)"
      ],
      "metadata": {
        "id": "CG1dXOQzSYCe"
      },
      "execution_count": null,
      "outputs": []
    },
    {
      "cell_type": "code",
      "source": [
        "train, validate, test = np.split(df_xg, [int(.7*len(df_xg)), int(.85*len(df_xg))])"
      ],
      "metadata": {
        "id": "aemcl2EONUts"
      },
      "execution_count": null,
      "outputs": []
    },
    {
      "cell_type": "code",
      "source": [
        "train.loc[train.baths>10, 'baths'] = 10\n",
        "max_sqft = train.sqft.quantile(0.999)\n",
        "train.loc[train.sqft>max_sqft, 'sqft'] = max_sqft"
      ],
      "metadata": {
        "id": "ddm-10_IUTWM"
      },
      "execution_count": null,
      "outputs": []
    },
    {
      "cell_type": "code",
      "source": [
        "y_train = train.target\n",
        "train.drop(['target'], axis=1, inplace=True)\n",
        "X_train = train\n",
        "y_test = test.target\n",
        "test.drop(['target'], axis=1, inplace=True)\n",
        "X_test = test\n",
        "y_val = validate.target\n",
        "validate.drop(['target'], axis=1, inplace=True)\n",
        "X_val = validate"
      ],
      "metadata": {
        "id": "Dvsp2FXjVIca"
      },
      "execution_count": null,
      "outputs": []
    },
    {
      "cell_type": "code",
      "source": [
        "import xgboost as xgb"
      ],
      "metadata": {
        "id": "VDXY9HoKVSZw"
      },
      "execution_count": 123,
      "outputs": []
    },
    {
      "cell_type": "code",
      "source": [
        "model = xgb.XGBRegressor(verbosity=0)"
      ],
      "metadata": {
        "id": "bEdhTLUzVUVl"
      },
      "execution_count": 152,
      "outputs": []
    },
    {
      "cell_type": "code",
      "source": [
        "from sklearn.model_selection import cross_val_score\n",
        "from sklearn.model_selection import RepeatedStratifiedKFold"
      ],
      "metadata": {
        "id": "rVCH4XcGHmPn"
      },
      "execution_count": 153,
      "outputs": []
    },
    {
      "cell_type": "code",
      "source": [
        "cv = RepeatedStratifiedKFold(n_splits=10, n_repeats=3, random_state=1)\n",
        "# evaluate model\n",
        "scores = cross_val_score(model, X_train, y_train, scoring='accuracy', cv=cv, n_jobs=-1)\n",
        "# report result\n",
        "print('Mean Accuracy: %.3f (%.3f)' % (np.mean(scores), np.std(scores)))"
      ],
      "metadata": {
        "colab": {
          "base_uri": "https://localhost:8080/",
          "height": 556
        },
        "id": "vU1je4XRHrLn",
        "outputId": "6dde003a-e334-4316-b290-d89b68044192"
      },
      "execution_count": 154,
      "outputs": [
        {
          "output_type": "stream",
          "name": "stderr",
          "text": [
            "/usr/local/lib/python3.7/dist-packages/sklearn/model_selection/_split.py:680: UserWarning: The least populated class in y has only 1 members, which is less than n_splits=10.\n",
            "  UserWarning,\n",
            "/usr/local/lib/python3.7/dist-packages/sklearn/model_selection/_split.py:680: UserWarning: The least populated class in y has only 1 members, which is less than n_splits=10.\n",
            "  UserWarning,\n",
            "/usr/local/lib/python3.7/dist-packages/sklearn/model_selection/_split.py:680: UserWarning: The least populated class in y has only 1 members, which is less than n_splits=10.\n",
            "  UserWarning,\n"
          ]
        },
        {
          "output_type": "error",
          "ename": "KeyboardInterrupt",
          "evalue": "ignored",
          "traceback": [
            "\u001b[0;31m---------------------------------------------------------------------------\u001b[0m",
            "\u001b[0;31mKeyboardInterrupt\u001b[0m                         Traceback (most recent call last)",
            "\u001b[0;32m/usr/local/lib/python3.7/dist-packages/joblib/parallel.py\u001b[0m in \u001b[0;36mretrieve\u001b[0;34m(self)\u001b[0m\n\u001b[1;32m    934\u001b[0m                 \u001b[0;32mif\u001b[0m \u001b[0mgetattr\u001b[0m\u001b[0;34m(\u001b[0m\u001b[0mself\u001b[0m\u001b[0;34m.\u001b[0m\u001b[0m_backend\u001b[0m\u001b[0;34m,\u001b[0m \u001b[0;34m'supports_timeout'\u001b[0m\u001b[0;34m,\u001b[0m \u001b[0;32mFalse\u001b[0m\u001b[0;34m)\u001b[0m\u001b[0;34m:\u001b[0m\u001b[0;34m\u001b[0m\u001b[0;34m\u001b[0m\u001b[0m\n\u001b[0;32m--> 935\u001b[0;31m                     \u001b[0mself\u001b[0m\u001b[0;34m.\u001b[0m\u001b[0m_output\u001b[0m\u001b[0;34m.\u001b[0m\u001b[0mextend\u001b[0m\u001b[0;34m(\u001b[0m\u001b[0mjob\u001b[0m\u001b[0;34m.\u001b[0m\u001b[0mget\u001b[0m\u001b[0;34m(\u001b[0m\u001b[0mtimeout\u001b[0m\u001b[0;34m=\u001b[0m\u001b[0mself\u001b[0m\u001b[0;34m.\u001b[0m\u001b[0mtimeout\u001b[0m\u001b[0;34m)\u001b[0m\u001b[0;34m)\u001b[0m\u001b[0;34m\u001b[0m\u001b[0;34m\u001b[0m\u001b[0m\n\u001b[0m\u001b[1;32m    936\u001b[0m                 \u001b[0;32melse\u001b[0m\u001b[0;34m:\u001b[0m\u001b[0;34m\u001b[0m\u001b[0;34m\u001b[0m\u001b[0m\n",
            "\u001b[0;32m/usr/local/lib/python3.7/dist-packages/joblib/_parallel_backends.py\u001b[0m in \u001b[0;36mwrap_future_result\u001b[0;34m(future, timeout)\u001b[0m\n\u001b[1;32m    541\u001b[0m         \u001b[0;32mtry\u001b[0m\u001b[0;34m:\u001b[0m\u001b[0;34m\u001b[0m\u001b[0;34m\u001b[0m\u001b[0m\n\u001b[0;32m--> 542\u001b[0;31m             \u001b[0;32mreturn\u001b[0m \u001b[0mfuture\u001b[0m\u001b[0;34m.\u001b[0m\u001b[0mresult\u001b[0m\u001b[0;34m(\u001b[0m\u001b[0mtimeout\u001b[0m\u001b[0;34m=\u001b[0m\u001b[0mtimeout\u001b[0m\u001b[0;34m)\u001b[0m\u001b[0;34m\u001b[0m\u001b[0;34m\u001b[0m\u001b[0m\n\u001b[0m\u001b[1;32m    543\u001b[0m         \u001b[0;32mexcept\u001b[0m \u001b[0mCfTimeoutError\u001b[0m \u001b[0;32mas\u001b[0m \u001b[0me\u001b[0m\u001b[0;34m:\u001b[0m\u001b[0;34m\u001b[0m\u001b[0;34m\u001b[0m\u001b[0m\n",
            "\u001b[0;32m/usr/lib/python3.7/concurrent/futures/_base.py\u001b[0m in \u001b[0;36mresult\u001b[0;34m(self, timeout)\u001b[0m\n\u001b[1;32m    429\u001b[0m \u001b[0;34m\u001b[0m\u001b[0m\n\u001b[0;32m--> 430\u001b[0;31m             \u001b[0mself\u001b[0m\u001b[0;34m.\u001b[0m\u001b[0m_condition\u001b[0m\u001b[0;34m.\u001b[0m\u001b[0mwait\u001b[0m\u001b[0;34m(\u001b[0m\u001b[0mtimeout\u001b[0m\u001b[0;34m)\u001b[0m\u001b[0;34m\u001b[0m\u001b[0;34m\u001b[0m\u001b[0m\n\u001b[0m\u001b[1;32m    431\u001b[0m \u001b[0;34m\u001b[0m\u001b[0m\n",
            "\u001b[0;32m/usr/lib/python3.7/threading.py\u001b[0m in \u001b[0;36mwait\u001b[0;34m(self, timeout)\u001b[0m\n\u001b[1;32m    295\u001b[0m             \u001b[0;32mif\u001b[0m \u001b[0mtimeout\u001b[0m \u001b[0;32mis\u001b[0m \u001b[0;32mNone\u001b[0m\u001b[0;34m:\u001b[0m\u001b[0;34m\u001b[0m\u001b[0;34m\u001b[0m\u001b[0m\n\u001b[0;32m--> 296\u001b[0;31m                 \u001b[0mwaiter\u001b[0m\u001b[0;34m.\u001b[0m\u001b[0macquire\u001b[0m\u001b[0;34m(\u001b[0m\u001b[0;34m)\u001b[0m\u001b[0;34m\u001b[0m\u001b[0;34m\u001b[0m\u001b[0m\n\u001b[0m\u001b[1;32m    297\u001b[0m                 \u001b[0mgotit\u001b[0m \u001b[0;34m=\u001b[0m \u001b[0;32mTrue\u001b[0m\u001b[0;34m\u001b[0m\u001b[0;34m\u001b[0m\u001b[0m\n",
            "\u001b[0;31mKeyboardInterrupt\u001b[0m: ",
            "\nDuring handling of the above exception, another exception occurred:\n",
            "\u001b[0;31mKeyboardInterrupt\u001b[0m                         Traceback (most recent call last)",
            "\u001b[0;32m<ipython-input-154-5567157ca9fb>\u001b[0m in \u001b[0;36m<module>\u001b[0;34m()\u001b[0m\n\u001b[1;32m      1\u001b[0m \u001b[0mcv\u001b[0m \u001b[0;34m=\u001b[0m \u001b[0mRepeatedStratifiedKFold\u001b[0m\u001b[0;34m(\u001b[0m\u001b[0mn_splits\u001b[0m\u001b[0;34m=\u001b[0m\u001b[0;36m10\u001b[0m\u001b[0;34m,\u001b[0m \u001b[0mn_repeats\u001b[0m\u001b[0;34m=\u001b[0m\u001b[0;36m3\u001b[0m\u001b[0;34m,\u001b[0m \u001b[0mrandom_state\u001b[0m\u001b[0;34m=\u001b[0m\u001b[0;36m1\u001b[0m\u001b[0;34m)\u001b[0m\u001b[0;34m\u001b[0m\u001b[0;34m\u001b[0m\u001b[0m\n\u001b[1;32m      2\u001b[0m \u001b[0;31m# evaluate model\u001b[0m\u001b[0;34m\u001b[0m\u001b[0;34m\u001b[0m\u001b[0;34m\u001b[0m\u001b[0m\n\u001b[0;32m----> 3\u001b[0;31m \u001b[0mscores\u001b[0m \u001b[0;34m=\u001b[0m \u001b[0mcross_val_score\u001b[0m\u001b[0;34m(\u001b[0m\u001b[0mmodel\u001b[0m\u001b[0;34m,\u001b[0m \u001b[0mX_train\u001b[0m\u001b[0;34m,\u001b[0m \u001b[0my_train\u001b[0m\u001b[0;34m,\u001b[0m \u001b[0mscoring\u001b[0m\u001b[0;34m=\u001b[0m\u001b[0;34m'accuracy'\u001b[0m\u001b[0;34m,\u001b[0m \u001b[0mcv\u001b[0m\u001b[0;34m=\u001b[0m\u001b[0mcv\u001b[0m\u001b[0;34m,\u001b[0m \u001b[0mn_jobs\u001b[0m\u001b[0;34m=\u001b[0m\u001b[0;34m-\u001b[0m\u001b[0;36m1\u001b[0m\u001b[0;34m)\u001b[0m\u001b[0;34m\u001b[0m\u001b[0;34m\u001b[0m\u001b[0m\n\u001b[0m\u001b[1;32m      4\u001b[0m \u001b[0;31m# report result\u001b[0m\u001b[0;34m\u001b[0m\u001b[0;34m\u001b[0m\u001b[0;34m\u001b[0m\u001b[0m\n\u001b[1;32m      5\u001b[0m \u001b[0mprint\u001b[0m\u001b[0;34m(\u001b[0m\u001b[0;34m'Mean Accuracy: %.3f (%.3f)'\u001b[0m \u001b[0;34m%\u001b[0m \u001b[0;34m(\u001b[0m\u001b[0mnp\u001b[0m\u001b[0;34m.\u001b[0m\u001b[0mmean\u001b[0m\u001b[0;34m(\u001b[0m\u001b[0mscores\u001b[0m\u001b[0;34m)\u001b[0m\u001b[0;34m,\u001b[0m \u001b[0mnp\u001b[0m\u001b[0;34m.\u001b[0m\u001b[0mstd\u001b[0m\u001b[0;34m(\u001b[0m\u001b[0mscores\u001b[0m\u001b[0;34m)\u001b[0m\u001b[0;34m)\u001b[0m\u001b[0;34m)\u001b[0m\u001b[0;34m\u001b[0m\u001b[0;34m\u001b[0m\u001b[0m\n",
            "\u001b[0;32m/usr/local/lib/python3.7/dist-packages/sklearn/model_selection/_validation.py\u001b[0m in \u001b[0;36mcross_val_score\u001b[0;34m(estimator, X, y, groups, scoring, cv, n_jobs, verbose, fit_params, pre_dispatch, error_score)\u001b[0m\n\u001b[1;32m    518\u001b[0m         \u001b[0mfit_params\u001b[0m\u001b[0;34m=\u001b[0m\u001b[0mfit_params\u001b[0m\u001b[0;34m,\u001b[0m\u001b[0;34m\u001b[0m\u001b[0;34m\u001b[0m\u001b[0m\n\u001b[1;32m    519\u001b[0m         \u001b[0mpre_dispatch\u001b[0m\u001b[0;34m=\u001b[0m\u001b[0mpre_dispatch\u001b[0m\u001b[0;34m,\u001b[0m\u001b[0;34m\u001b[0m\u001b[0;34m\u001b[0m\u001b[0m\n\u001b[0;32m--> 520\u001b[0;31m         \u001b[0merror_score\u001b[0m\u001b[0;34m=\u001b[0m\u001b[0merror_score\u001b[0m\u001b[0;34m,\u001b[0m\u001b[0;34m\u001b[0m\u001b[0;34m\u001b[0m\u001b[0m\n\u001b[0m\u001b[1;32m    521\u001b[0m     )\n\u001b[1;32m    522\u001b[0m     \u001b[0;32mreturn\u001b[0m \u001b[0mcv_results\u001b[0m\u001b[0;34m[\u001b[0m\u001b[0;34m\"test_score\"\u001b[0m\u001b[0;34m]\u001b[0m\u001b[0;34m\u001b[0m\u001b[0;34m\u001b[0m\u001b[0m\n",
            "\u001b[0;32m/usr/local/lib/python3.7/dist-packages/sklearn/model_selection/_validation.py\u001b[0m in \u001b[0;36mcross_validate\u001b[0;34m(estimator, X, y, groups, scoring, cv, n_jobs, verbose, fit_params, pre_dispatch, return_train_score, return_estimator, error_score)\u001b[0m\n\u001b[1;32m    281\u001b[0m             \u001b[0merror_score\u001b[0m\u001b[0;34m=\u001b[0m\u001b[0merror_score\u001b[0m\u001b[0;34m,\u001b[0m\u001b[0;34m\u001b[0m\u001b[0;34m\u001b[0m\u001b[0m\n\u001b[1;32m    282\u001b[0m         )\n\u001b[0;32m--> 283\u001b[0;31m         \u001b[0;32mfor\u001b[0m \u001b[0mtrain\u001b[0m\u001b[0;34m,\u001b[0m \u001b[0mtest\u001b[0m \u001b[0;32min\u001b[0m \u001b[0mcv\u001b[0m\u001b[0;34m.\u001b[0m\u001b[0msplit\u001b[0m\u001b[0;34m(\u001b[0m\u001b[0mX\u001b[0m\u001b[0;34m,\u001b[0m \u001b[0my\u001b[0m\u001b[0;34m,\u001b[0m \u001b[0mgroups\u001b[0m\u001b[0;34m)\u001b[0m\u001b[0;34m\u001b[0m\u001b[0;34m\u001b[0m\u001b[0m\n\u001b[0m\u001b[1;32m    284\u001b[0m     )\n\u001b[1;32m    285\u001b[0m \u001b[0;34m\u001b[0m\u001b[0m\n",
            "\u001b[0;32m/usr/local/lib/python3.7/dist-packages/joblib/parallel.py\u001b[0m in \u001b[0;36m__call__\u001b[0;34m(self, iterable)\u001b[0m\n\u001b[1;32m   1054\u001b[0m \u001b[0;34m\u001b[0m\u001b[0m\n\u001b[1;32m   1055\u001b[0m             \u001b[0;32mwith\u001b[0m \u001b[0mself\u001b[0m\u001b[0;34m.\u001b[0m\u001b[0m_backend\u001b[0m\u001b[0;34m.\u001b[0m\u001b[0mretrieval_context\u001b[0m\u001b[0;34m(\u001b[0m\u001b[0;34m)\u001b[0m\u001b[0;34m:\u001b[0m\u001b[0;34m\u001b[0m\u001b[0;34m\u001b[0m\u001b[0m\n\u001b[0;32m-> 1056\u001b[0;31m                 \u001b[0mself\u001b[0m\u001b[0;34m.\u001b[0m\u001b[0mretrieve\u001b[0m\u001b[0;34m(\u001b[0m\u001b[0;34m)\u001b[0m\u001b[0;34m\u001b[0m\u001b[0;34m\u001b[0m\u001b[0m\n\u001b[0m\u001b[1;32m   1057\u001b[0m             \u001b[0;31m# Make sure that we get a last message telling us we are done\u001b[0m\u001b[0;34m\u001b[0m\u001b[0;34m\u001b[0m\u001b[0;34m\u001b[0m\u001b[0m\n\u001b[1;32m   1058\u001b[0m             \u001b[0melapsed_time\u001b[0m \u001b[0;34m=\u001b[0m \u001b[0mtime\u001b[0m\u001b[0;34m.\u001b[0m\u001b[0mtime\u001b[0m\u001b[0;34m(\u001b[0m\u001b[0;34m)\u001b[0m \u001b[0;34m-\u001b[0m \u001b[0mself\u001b[0m\u001b[0;34m.\u001b[0m\u001b[0m_start_time\u001b[0m\u001b[0;34m\u001b[0m\u001b[0;34m\u001b[0m\u001b[0m\n",
            "\u001b[0;32m/usr/local/lib/python3.7/dist-packages/joblib/parallel.py\u001b[0m in \u001b[0;36mretrieve\u001b[0;34m(self)\u001b[0m\n\u001b[1;32m    955\u001b[0m                     \u001b[0;31m# scheduling.\u001b[0m\u001b[0;34m\u001b[0m\u001b[0;34m\u001b[0m\u001b[0;34m\u001b[0m\u001b[0m\n\u001b[1;32m    956\u001b[0m                     \u001b[0mensure_ready\u001b[0m \u001b[0;34m=\u001b[0m \u001b[0mself\u001b[0m\u001b[0;34m.\u001b[0m\u001b[0m_managed_backend\u001b[0m\u001b[0;34m\u001b[0m\u001b[0;34m\u001b[0m\u001b[0m\n\u001b[0;32m--> 957\u001b[0;31m                     \u001b[0mbackend\u001b[0m\u001b[0;34m.\u001b[0m\u001b[0mabort_everything\u001b[0m\u001b[0;34m(\u001b[0m\u001b[0mensure_ready\u001b[0m\u001b[0;34m=\u001b[0m\u001b[0mensure_ready\u001b[0m\u001b[0;34m)\u001b[0m\u001b[0;34m\u001b[0m\u001b[0;34m\u001b[0m\u001b[0m\n\u001b[0m\u001b[1;32m    958\u001b[0m                 \u001b[0;32mraise\u001b[0m\u001b[0;34m\u001b[0m\u001b[0;34m\u001b[0m\u001b[0m\n\u001b[1;32m    959\u001b[0m \u001b[0;34m\u001b[0m\u001b[0m\n",
            "\u001b[0;32m/usr/local/lib/python3.7/dist-packages/joblib/_parallel_backends.py\u001b[0m in \u001b[0;36mabort_everything\u001b[0;34m(self, ensure_ready)\u001b[0m\n\u001b[1;32m    559\u001b[0m         \"\"\"Shutdown the workers and restart a new one with the same parameters\n\u001b[1;32m    560\u001b[0m         \"\"\"\n\u001b[0;32m--> 561\u001b[0;31m         \u001b[0mself\u001b[0m\u001b[0;34m.\u001b[0m\u001b[0m_workers\u001b[0m\u001b[0;34m.\u001b[0m\u001b[0mterminate\u001b[0m\u001b[0;34m(\u001b[0m\u001b[0mkill_workers\u001b[0m\u001b[0;34m=\u001b[0m\u001b[0;32mTrue\u001b[0m\u001b[0;34m)\u001b[0m\u001b[0;34m\u001b[0m\u001b[0;34m\u001b[0m\u001b[0m\n\u001b[0m\u001b[1;32m    562\u001b[0m         \u001b[0mself\u001b[0m\u001b[0;34m.\u001b[0m\u001b[0m_workers\u001b[0m \u001b[0;34m=\u001b[0m \u001b[0;32mNone\u001b[0m\u001b[0;34m\u001b[0m\u001b[0;34m\u001b[0m\u001b[0m\n\u001b[1;32m    563\u001b[0m \u001b[0;34m\u001b[0m\u001b[0m\n",
            "\u001b[0;32m/usr/local/lib/python3.7/dist-packages/joblib/executor.py\u001b[0m in \u001b[0;36mterminate\u001b[0;34m(self, kill_workers)\u001b[0m\n\u001b[1;32m     72\u001b[0m \u001b[0;34m\u001b[0m\u001b[0m\n\u001b[1;32m     73\u001b[0m     \u001b[0;32mdef\u001b[0m \u001b[0mterminate\u001b[0m\u001b[0;34m(\u001b[0m\u001b[0mself\u001b[0m\u001b[0;34m,\u001b[0m \u001b[0mkill_workers\u001b[0m\u001b[0;34m=\u001b[0m\u001b[0;32mFalse\u001b[0m\u001b[0;34m)\u001b[0m\u001b[0;34m:\u001b[0m\u001b[0;34m\u001b[0m\u001b[0;34m\u001b[0m\u001b[0m\n\u001b[0;32m---> 74\u001b[0;31m         \u001b[0mself\u001b[0m\u001b[0;34m.\u001b[0m\u001b[0mshutdown\u001b[0m\u001b[0;34m(\u001b[0m\u001b[0mkill_workers\u001b[0m\u001b[0;34m=\u001b[0m\u001b[0mkill_workers\u001b[0m\u001b[0;34m)\u001b[0m\u001b[0;34m\u001b[0m\u001b[0;34m\u001b[0m\u001b[0m\n\u001b[0m\u001b[1;32m     75\u001b[0m         \u001b[0;32mif\u001b[0m \u001b[0mkill_workers\u001b[0m\u001b[0;34m:\u001b[0m\u001b[0;34m\u001b[0m\u001b[0;34m\u001b[0m\u001b[0m\n\u001b[1;32m     76\u001b[0m             \u001b[0;31m# When workers are killed in such a brutal manner, they cannot\u001b[0m\u001b[0;34m\u001b[0m\u001b[0;34m\u001b[0m\u001b[0;34m\u001b[0m\u001b[0m\n",
            "\u001b[0;32m/usr/local/lib/python3.7/dist-packages/joblib/externals/loky/process_executor.py\u001b[0m in \u001b[0;36mshutdown\u001b[0;34m(self, wait, kill_workers)\u001b[0m\n\u001b[1;32m   1183\u001b[0m \u001b[0;34m\u001b[0m\u001b[0m\n\u001b[1;32m   1184\u001b[0m         \u001b[0;32mif\u001b[0m \u001b[0mexecutor_manager_thread\u001b[0m \u001b[0;32mis\u001b[0m \u001b[0;32mnot\u001b[0m \u001b[0;32mNone\u001b[0m \u001b[0;32mand\u001b[0m \u001b[0mwait\u001b[0m\u001b[0;34m:\u001b[0m\u001b[0;34m\u001b[0m\u001b[0;34m\u001b[0m\u001b[0m\n\u001b[0;32m-> 1185\u001b[0;31m             \u001b[0mexecutor_manager_thread\u001b[0m\u001b[0;34m.\u001b[0m\u001b[0mjoin\u001b[0m\u001b[0;34m(\u001b[0m\u001b[0;34m)\u001b[0m\u001b[0;34m\u001b[0m\u001b[0;34m\u001b[0m\u001b[0m\n\u001b[0m\u001b[1;32m   1186\u001b[0m \u001b[0;34m\u001b[0m\u001b[0m\n\u001b[1;32m   1187\u001b[0m         \u001b[0;31m# To reduce the risk of opening too many files, remove references to\u001b[0m\u001b[0;34m\u001b[0m\u001b[0;34m\u001b[0m\u001b[0;34m\u001b[0m\u001b[0m\n",
            "\u001b[0;32m/usr/lib/python3.7/threading.py\u001b[0m in \u001b[0;36mjoin\u001b[0;34m(self, timeout)\u001b[0m\n\u001b[1;32m   1042\u001b[0m \u001b[0;34m\u001b[0m\u001b[0m\n\u001b[1;32m   1043\u001b[0m         \u001b[0;32mif\u001b[0m \u001b[0mtimeout\u001b[0m \u001b[0;32mis\u001b[0m \u001b[0;32mNone\u001b[0m\u001b[0;34m:\u001b[0m\u001b[0;34m\u001b[0m\u001b[0;34m\u001b[0m\u001b[0m\n\u001b[0;32m-> 1044\u001b[0;31m             \u001b[0mself\u001b[0m\u001b[0;34m.\u001b[0m\u001b[0m_wait_for_tstate_lock\u001b[0m\u001b[0;34m(\u001b[0m\u001b[0;34m)\u001b[0m\u001b[0;34m\u001b[0m\u001b[0;34m\u001b[0m\u001b[0m\n\u001b[0m\u001b[1;32m   1045\u001b[0m         \u001b[0;32melse\u001b[0m\u001b[0;34m:\u001b[0m\u001b[0;34m\u001b[0m\u001b[0;34m\u001b[0m\u001b[0m\n\u001b[1;32m   1046\u001b[0m             \u001b[0;31m# the behavior of a negative timeout isn't documented, but\u001b[0m\u001b[0;34m\u001b[0m\u001b[0;34m\u001b[0m\u001b[0;34m\u001b[0m\u001b[0m\n",
            "\u001b[0;32m/usr/lib/python3.7/threading.py\u001b[0m in \u001b[0;36m_wait_for_tstate_lock\u001b[0;34m(self, block, timeout)\u001b[0m\n\u001b[1;32m   1058\u001b[0m         \u001b[0;32mif\u001b[0m \u001b[0mlock\u001b[0m \u001b[0;32mis\u001b[0m \u001b[0;32mNone\u001b[0m\u001b[0;34m:\u001b[0m  \u001b[0;31m# already determined that the C code is done\u001b[0m\u001b[0;34m\u001b[0m\u001b[0;34m\u001b[0m\u001b[0m\n\u001b[1;32m   1059\u001b[0m             \u001b[0;32massert\u001b[0m \u001b[0mself\u001b[0m\u001b[0;34m.\u001b[0m\u001b[0m_is_stopped\u001b[0m\u001b[0;34m\u001b[0m\u001b[0;34m\u001b[0m\u001b[0m\n\u001b[0;32m-> 1060\u001b[0;31m         \u001b[0;32melif\u001b[0m \u001b[0mlock\u001b[0m\u001b[0;34m.\u001b[0m\u001b[0macquire\u001b[0m\u001b[0;34m(\u001b[0m\u001b[0mblock\u001b[0m\u001b[0;34m,\u001b[0m \u001b[0mtimeout\u001b[0m\u001b[0;34m)\u001b[0m\u001b[0;34m:\u001b[0m\u001b[0;34m\u001b[0m\u001b[0;34m\u001b[0m\u001b[0m\n\u001b[0m\u001b[1;32m   1061\u001b[0m             \u001b[0mlock\u001b[0m\u001b[0;34m.\u001b[0m\u001b[0mrelease\u001b[0m\u001b[0;34m(\u001b[0m\u001b[0;34m)\u001b[0m\u001b[0;34m\u001b[0m\u001b[0;34m\u001b[0m\u001b[0m\n\u001b[1;32m   1062\u001b[0m             \u001b[0mself\u001b[0m\u001b[0;34m.\u001b[0m\u001b[0m_stop\u001b[0m\u001b[0;34m(\u001b[0m\u001b[0;34m)\u001b[0m\u001b[0;34m\u001b[0m\u001b[0;34m\u001b[0m\u001b[0m\n",
            "\u001b[0;31mKeyboardInterrupt\u001b[0m: "
          ]
        }
      ]
    },
    {
      "cell_type": "code",
      "source": [
        "model.fit(X_train, np.log(y_train))"
      ],
      "metadata": {
        "colab": {
          "base_uri": "https://localhost:8080/"
        },
        "id": "KdcbWY97VdLm",
        "outputId": "f78529ea-3940-4d6f-bac2-84fb39b21ce5"
      },
      "execution_count": 145,
      "outputs": [
        {
          "output_type": "execute_result",
          "data": {
            "text/plain": [
              "XGBRegressor(verbosity=0)"
            ]
          },
          "metadata": {},
          "execution_count": 145
        }
      ]
    },
    {
      "cell_type": "code",
      "source": [
        "preds = model.predict(X_test)"
      ],
      "metadata": {
        "id": "bAwn7-_GDEeP"
      },
      "execution_count": 146,
      "outputs": []
    },
    {
      "cell_type": "code",
      "source": [
        "print(f\"TEST mape: {(mape(y_test, np.exp(preds)))}%\")"
      ],
      "metadata": {
        "colab": {
          "base_uri": "https://localhost:8080/"
        },
        "id": "FwgQHjN3CnYR",
        "outputId": "c694e3f6-f1ed-416b-fbf4-7b7ce24cd890"
      },
      "execution_count": 147,
      "outputs": [
        {
          "output_type": "stream",
          "name": "stdout",
          "text": [
            "TEST mape: 1.7308398834813148%\n"
          ]
        }
      ]
    },
    {
      "cell_type": "code",
      "source": [
        "print(f\"TEST mae: {(mean_absolute_error(y_test, np.exp(preds)))}\")"
      ],
      "metadata": {
        "colab": {
          "base_uri": "https://localhost:8080/"
        },
        "id": "6933pj6cFP18",
        "outputId": "bea0c35f-400e-448b-ff77-1c60db07dba3"
      },
      "execution_count": 148,
      "outputs": [
        {
          "output_type": "stream",
          "name": "stdout",
          "text": [
            "TEST mae: 120880.79397099829\n"
          ]
        }
      ]
    },
    {
      "cell_type": "markdown",
      "source": [
        "**TEST mape: 1.7308398834813148%**"
      ],
      "metadata": {
        "id": "9lvHnoy-DWWc"
      }
    },
    {
      "cell_type": "code",
      "source": [
        "preds_val = model.predict(X_val)"
      ],
      "metadata": {
        "id": "eEGDhfdHDKEO"
      },
      "execution_count": 149,
      "outputs": []
    },
    {
      "cell_type": "code",
      "source": [
        "print(f\"Validation mape: {(mape(y_val, np.exp(preds_val)))}%\")"
      ],
      "metadata": {
        "colab": {
          "base_uri": "https://localhost:8080/"
        },
        "id": "37vOWCF6DNCI",
        "outputId": "3e2c62e2-3676-4bba-99e5-958bd041fb20"
      },
      "execution_count": 150,
      "outputs": [
        {
          "output_type": "stream",
          "name": "stdout",
          "text": [
            "Validation mape: 7.246956482973879%\n"
          ]
        }
      ]
    },
    {
      "cell_type": "code",
      "source": [
        "print(f\"Validation mae: {(mean_absolute_error(y_test, np.exp(preds_val)))}\")"
      ],
      "metadata": {
        "colab": {
          "base_uri": "https://localhost:8080/"
        },
        "id": "gdYudkdyFrbs",
        "outputId": "b9c13bea-67da-46d6-8e47-c7f1029decd2"
      },
      "execution_count": 151,
      "outputs": [
        {
          "output_type": "stream",
          "name": "stdout",
          "text": [
            "Validation mae: 726245.1694075448\n"
          ]
        }
      ]
    },
    {
      "cell_type": "markdown",
      "source": [
        "**Validation mape: 7.246956482973879%**"
      ],
      "metadata": {
        "id": "hhcCyMyZDYUo"
      }
    }
  ],
  "metadata": {
    "colab": {
      "collapsed_sections": [
        "vcpyaaGmKgp6"
      ],
      "name": "SF Final Project.ipynb",
      "provenance": [],
      "authorship_tag": "ABX9TyOtp0RVJ9Qk9SH0A42UTOey",
      "include_colab_link": true
    },
    "kernelspec": {
      "display_name": "Python 3",
      "name": "python3"
    },
    "language_info": {
      "name": "python"
    }
  },
  "nbformat": 4,
  "nbformat_minor": 0
}