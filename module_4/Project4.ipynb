{
  "nbformat": 4,
  "nbformat_minor": 0,
  "metadata": {
    "colab": {
      "name": "Project4.ipynb",
      "provenance": [],
      "collapsed_sections": []
    },
    "kernelspec": {
      "name": "python3",
      "display_name": "Python 3"
    },
    "language_info": {
      "name": "python"
    }
  },
  "cells": [
    {
      "cell_type": "code",
      "metadata": {
        "id": "n5FysgInY4M8"
      },
      "source": [
        "from pandas import Series\n",
        "import pandas as pd\n",
        "import numpy as np\n",
        "\n",
        "\n",
        "import matplotlib.pyplot as plt\n",
        "import seaborn as sns\n",
        "\n",
        "from sklearn.feature_selection import f_classif, mutual_info_classif\n",
        "from sklearn.preprocessing import LabelEncoder, OneHotEncoder, StandardScaler\n",
        "\n",
        "from sklearn.model_selection import train_test_split\n",
        "from sklearn.linear_model import LogisticRegression\n",
        "\n",
        "\n",
        "from sklearn.metrics import confusion_matrix\n",
        "from sklearn.metrics import auc, roc_auc_score, roc_curve"
      ],
      "execution_count": 349,
      "outputs": []
    },
    {
      "cell_type": "code",
      "metadata": {
        "id": "BS0c3U3GZIXM"
      },
      "source": [
        "train = pd.read_csv(\"/content/train.csv\", encoding = 'ISO-8859-1', low_memory = False)\n"
      ],
      "execution_count": 350,
      "outputs": []
    },
    {
      "cell_type": "code",
      "metadata": {
        "colab": {
          "base_uri": "https://localhost:8080/"
        },
        "id": "e4Ddsn-QJT5t",
        "outputId": "f6509e4e-1514-44bb-9986-7b86b3848b52"
      },
      "source": [
        "# Look at the dataframe\n",
        "train.info()"
      ],
      "execution_count": 351,
      "outputs": [
        {
          "output_type": "stream",
          "name": "stdout",
          "text": [
            "<class 'pandas.core.frame.DataFrame'>\n",
            "RangeIndex: 73799 entries, 0 to 73798\n",
            "Data columns (total 19 columns):\n",
            " #   Column            Non-Null Count  Dtype  \n",
            "---  ------            --------------  -----  \n",
            " 0   client_id         73799 non-null  int64  \n",
            " 1   app_date          73799 non-null  object \n",
            " 2   education         73492 non-null  object \n",
            " 3   sex               73799 non-null  object \n",
            " 4   age               73799 non-null  int64  \n",
            " 5   car               73799 non-null  object \n",
            " 6   car_type          73799 non-null  object \n",
            " 7   decline_app_cnt   73799 non-null  int64  \n",
            " 8   good_work         73799 non-null  int64  \n",
            " 9   score_bki         73799 non-null  float64\n",
            " 10  bki_request_cnt   73799 non-null  int64  \n",
            " 11  region_rating     73799 non-null  int64  \n",
            " 12  home_address      73799 non-null  int64  \n",
            " 13  work_address      73799 non-null  int64  \n",
            " 14  income            73799 non-null  int64  \n",
            " 15  sna               73799 non-null  int64  \n",
            " 16  first_time        73799 non-null  int64  \n",
            " 17  foreign_passport  73799 non-null  object \n",
            " 18  default           73799 non-null  int64  \n",
            "dtypes: float64(1), int64(12), object(6)\n",
            "memory usage: 10.7+ MB\n"
          ]
        }
      ]
    },
    {
      "cell_type": "code",
      "metadata": {
        "colab": {
          "base_uri": "https://localhost:8080/"
        },
        "id": "7VkCDFuUIUY4",
        "outputId": "bb5c8b25-e2a8-4ce9-de7b-010b1e054fa6"
      },
      "source": [
        "# There is only one column with missing data (less than 1%). Let's look at structure of data \n",
        "train.education.value_counts()"
      ],
      "execution_count": 352,
      "outputs": [
        {
          "output_type": "execute_result",
          "data": {
            "text/plain": [
              "SCH    38860\n",
              "GRD    23365\n",
              "UGR     9816\n",
              "PGR     1257\n",
              "ACD      194\n",
              "Name: education, dtype: int64"
            ]
          },
          "metadata": {},
          "execution_count": 352
        }
      ]
    },
    {
      "cell_type": "code",
      "metadata": {
        "id": "ffBtQfQXJAr3"
      },
      "source": [
        "# And fill missing data with most popular value\n",
        "train.education.fillna('SCH', inplace=True)"
      ],
      "execution_count": 353,
      "outputs": []
    },
    {
      "cell_type": "code",
      "metadata": {
        "id": "NRYD1YazJY5c"
      },
      "source": [
        "# Now we will divide columns by type\n",
        "num_cols = ['age','income', 'bki_request_cnt', 'decline_app_cnt', 'score_bki']\n",
        "cat_cols = ['client_id', 'education', 'home_address', 'work_address', 'region_rating', 'sna', 'first_time', 'app_date']\n",
        "bin_cols = ['sex', 'car', 'car_type','good_work', 'foreign_passport']"
      ],
      "execution_count": 354,
      "outputs": []
    },
    {
      "cell_type": "code",
      "metadata": {
        "colab": {
          "base_uri": "https://localhost:8080/",
          "height": 1000
        },
        "id": "nMYD878Ah7zu",
        "outputId": "35aeeed7-a4d6-4831-cbf5-c0aad140d7ae"
      },
      "source": [
        "# Let's search for outliers in num columns by looking at boxplots\n",
        "for col in num_cols:\n",
        "    plt.figure(figsize=(15, 3))\n",
        "    sns.boxplot(y=train.default, x=np.log(train[col]+1),\n",
        "            showmeans=True, meanline=True, orient='h')"
      ],
      "execution_count": 355,
      "outputs": [
        {
          "output_type": "stream",
          "name": "stderr",
          "text": [
            "/usr/local/lib/python3.7/dist-packages/pandas/core/series.py:726: RuntimeWarning: invalid value encountered in log\n",
            "  result = getattr(ufunc, method)(*inputs, **kwargs)\n"
          ]
        },
        {
          "output_type": "display_data",
          "data": {
            "image/png": "[encoded data removed]",
            "text/plain": [
              "<Figure size 1080x216 with 1 Axes>"
            ]
          },
          "metadata": {
            "needs_background": "light"
          }
        },
        {
          "output_type": "display_data",
          "data": {
            "image/png": "[encoded data removed]",
            "text/plain": [
              "<Figure size 1080x216 with 1 Axes>"
            ]
          },
          "metadata": {
            "needs_background": "light"
          }
        },
        {
          "output_type": "display_data",
          "data": {
            "image/png": "[encoded data removed]",
            "text/plain": [
              "<Figure size 1080x216 with 1 Axes>"
            ]
          },
          "metadata": {
            "needs_background": "light"
          }
        },
        {
          "output_type": "display_data",
          "data": {
            "image/png": "[encoded data removed]",
            "text/plain": [
              "<Figure size 1080x216 with 1 Axes>"
            ]
          },
          "metadata": {
            "needs_background": "light"
          }
        },
        {
          "output_type": "display_data",
          "data": {
            "image/png": "[encoded data removed]",
            "text/plain": [
              "<Figure size 1080x216 with 1 Axes>"
            ]
          },
          "metadata": {
            "needs_background": "light"
          }
        }
      ]
    },
    {
      "cell_type": "code",
      "metadata": {
        "colab": {
          "base_uri": "https://localhost:8080/",
          "height": 282
        },
        "id": "VTrI-orsjjqm",
        "outputId": "cf66a152-933a-496b-c84b-9e07e47753ec"
      },
      "source": [
        "# The most important num params \n",
        "imp_num = pd.Series(f_classif(train[num_cols], train['default'])[0], index = num_cols)\n",
        "imp_num.sort_values(inplace = True)\n",
        "imp_num.plot(kind = 'barh')"
      ],
      "execution_count": 356,
      "outputs": [
        {
          "output_type": "execute_result",
          "data": {
            "text/plain": [
              "<matplotlib.axes._subplots.AxesSubplot at 0x7f091eaac710>"
            ]
          },
          "metadata": {},
          "execution_count": 356
        },
        {
          "output_type": "display_data",
          "data": {
            "image/png": "[encoded data removed]",
            "text/plain": [
              "<Figure size 432x288 with 1 Axes>"
            ]
          },
          "metadata": {
            "needs_background": "light"
          }
        }
      ]
    },
    {
      "cell_type": "code",
      "metadata": {
        "id": "BfNWfp4LTBHs"
      },
      "source": [
        "# Now encoding education values\n",
        "education_dict = {'SCH': 0, 'UGR': 1, 'GRD': 2, 'PGR': 4, 'ACD': 5}\n",
        "train.education = train.education.replace(education_dict)"
      ],
      "execution_count": 357,
      "outputs": []
    },
    {
      "cell_type": "code",
      "metadata": {
        "id": "9bhXCJ8tOWa-"
      },
      "source": [
        "# Let's encode data in every binary column\n",
        "label_encoder = LabelEncoder()\n",
        "\n",
        "for column in bin_cols:\n",
        "    train[column] = label_encoder.fit_transform(train[column])"
      ],
      "execution_count": 358,
      "outputs": []
    },
    {
      "cell_type": "code",
      "metadata": {
        "id": "vmyIAfZMTX4i"
      },
      "source": [
        "# Let's encode app_date transformed it into timestamp\n",
        "def formatDate(d):\n",
        "  from datetime import datetime\n",
        "  d = datetime.strptime(d, '%d-%m-%Y')\n",
        "  return datetime.timestamp(d)\n",
        "\n",
        "train.app_date.replace({'JAN':'-01-', 'FEB':'-02-', 'MAR':'-03-', 'APR':'-04-', 'MAY':'-05-', 'JUN':'-06-', 'JUL':'-07-', 'AUG':'-08-',\n",
        "                        'SEP':'-09-', 'OCT':'-10-', 'NOV':'-11-', 'DEC':'-12-',}, regex=True, inplace=True)\n",
        "train.app_date = train.app_date.apply(lambda x: formatDate(x))"
      ],
      "execution_count": 359,
      "outputs": []
    },
    {
      "cell_type": "code",
      "metadata": {
        "colab": {
          "base_uri": "https://localhost:8080/",
          "height": 224
        },
        "id": "dOh_B-V4ctwY",
        "outputId": "211c7261-2905-47c8-836b-228a9ec4f94d"
      },
      "source": [
        "train.head()"
      ],
      "execution_count": 360,
      "outputs": [
        {
          "output_type": "execute_result",
          "data": {
            "text/html": [
              "<div>\n",
              "<style scoped>\n",
              "    .dataframe tbody tr th:only-of-type {\n",
              "        vertical-align: middle;\n",
              "    }\n",
              "\n",
              "    .dataframe tbody tr th {\n",
              "        vertical-align: top;\n",
              "    }\n",
              "\n",
              "    .dataframe thead th {\n",
              "        text-align: right;\n",
              "    }\n",
              "</style>\n",
              "<table border=\"1\" class=\"dataframe\">\n",
              "  <thead>\n",
              "    <tr style=\"text-align: right;\">\n",
              "      <th></th>\n",
              "      <th>client_id</th>\n",
              "      <th>app_date</th>\n",
              "      <th>education</th>\n",
              "      <th>sex</th>\n",
              "      <th>age</th>\n",
              "      <th>car</th>\n",
              "      <th>car_type</th>\n",
              "      <th>decline_app_cnt</th>\n",
              "      <th>good_work</th>\n",
              "      <th>score_bki</th>\n",
              "      <th>bki_request_cnt</th>\n",
              "      <th>region_rating</th>\n",
              "      <th>home_address</th>\n",
              "      <th>work_address</th>\n",
              "      <th>income</th>\n",
              "      <th>sna</th>\n",
              "      <th>first_time</th>\n",
              "      <th>foreign_passport</th>\n",
              "      <th>default</th>\n",
              "    </tr>\n",
              "  </thead>\n",
              "  <tbody>\n",
              "    <tr>\n",
              "      <th>0</th>\n",
              "      <td>25905</td>\n",
              "      <td>1.391213e+09</td>\n",
              "      <td>0</td>\n",
              "      <td>1</td>\n",
              "      <td>62</td>\n",
              "      <td>1</td>\n",
              "      <td>1</td>\n",
              "      <td>0</td>\n",
              "      <td>0</td>\n",
              "      <td>-2.008753</td>\n",
              "      <td>1</td>\n",
              "      <td>50</td>\n",
              "      <td>1</td>\n",
              "      <td>2</td>\n",
              "      <td>18000</td>\n",
              "      <td>4</td>\n",
              "      <td>1</td>\n",
              "      <td>0</td>\n",
              "      <td>0</td>\n",
              "    </tr>\n",
              "    <tr>\n",
              "      <th>1</th>\n",
              "      <td>63161</td>\n",
              "      <td>1.394582e+09</td>\n",
              "      <td>0</td>\n",
              "      <td>0</td>\n",
              "      <td>59</td>\n",
              "      <td>0</td>\n",
              "      <td>0</td>\n",
              "      <td>0</td>\n",
              "      <td>0</td>\n",
              "      <td>-1.532276</td>\n",
              "      <td>3</td>\n",
              "      <td>50</td>\n",
              "      <td>2</td>\n",
              "      <td>3</td>\n",
              "      <td>19000</td>\n",
              "      <td>4</td>\n",
              "      <td>1</td>\n",
              "      <td>0</td>\n",
              "      <td>0</td>\n",
              "    </tr>\n",
              "    <tr>\n",
              "      <th>2</th>\n",
              "      <td>25887</td>\n",
              "      <td>1.391213e+09</td>\n",
              "      <td>0</td>\n",
              "      <td>1</td>\n",
              "      <td>25</td>\n",
              "      <td>1</td>\n",
              "      <td>0</td>\n",
              "      <td>2</td>\n",
              "      <td>0</td>\n",
              "      <td>-1.408142</td>\n",
              "      <td>1</td>\n",
              "      <td>80</td>\n",
              "      <td>1</td>\n",
              "      <td>2</td>\n",
              "      <td>30000</td>\n",
              "      <td>1</td>\n",
              "      <td>4</td>\n",
              "      <td>1</td>\n",
              "      <td>0</td>\n",
              "    </tr>\n",
              "    <tr>\n",
              "      <th>3</th>\n",
              "      <td>16222</td>\n",
              "      <td>1.390435e+09</td>\n",
              "      <td>0</td>\n",
              "      <td>0</td>\n",
              "      <td>53</td>\n",
              "      <td>0</td>\n",
              "      <td>0</td>\n",
              "      <td>0</td>\n",
              "      <td>0</td>\n",
              "      <td>-2.057471</td>\n",
              "      <td>2</td>\n",
              "      <td>50</td>\n",
              "      <td>2</td>\n",
              "      <td>3</td>\n",
              "      <td>10000</td>\n",
              "      <td>1</td>\n",
              "      <td>3</td>\n",
              "      <td>0</td>\n",
              "      <td>0</td>\n",
              "    </tr>\n",
              "    <tr>\n",
              "      <th>4</th>\n",
              "      <td>101655</td>\n",
              "      <td>1.397779e+09</td>\n",
              "      <td>2</td>\n",
              "      <td>1</td>\n",
              "      <td>48</td>\n",
              "      <td>0</td>\n",
              "      <td>0</td>\n",
              "      <td>0</td>\n",
              "      <td>1</td>\n",
              "      <td>-1.244723</td>\n",
              "      <td>1</td>\n",
              "      <td>60</td>\n",
              "      <td>2</td>\n",
              "      <td>3</td>\n",
              "      <td>30000</td>\n",
              "      <td>1</td>\n",
              "      <td>4</td>\n",
              "      <td>1</td>\n",
              "      <td>0</td>\n",
              "    </tr>\n",
              "  </tbody>\n",
              "</table>\n",
              "</div>"
            ],
            "text/plain": [
              "   client_id      app_date  education  ...  first_time  foreign_passport  default\n",
              "0      25905  1.391213e+09          0  ...           1                 0        0\n",
              "1      63161  1.394582e+09          0  ...           1                 0        0\n",
              "2      25887  1.391213e+09          0  ...           4                 1        0\n",
              "3      16222  1.390435e+09          0  ...           3                 0        0\n",
              "4     101655  1.397779e+09          2  ...           4                 1        0\n",
              "\n",
              "[5 rows x 19 columns]"
            ]
          },
          "metadata": {},
          "execution_count": 360
        }
      ]
    },
    {
      "cell_type": "code",
      "metadata": {
        "colab": {
          "base_uri": "https://localhost:8080/",
          "height": 360
        },
        "id": "Ypj24Ui5Myht",
        "outputId": "1a422046-7461-4f6e-a218-b3c0e619f0aa"
      },
      "source": [
        "# Now we will look at correlation matrix\n",
        "# and find four pairs highly correlated params\n",
        "# So. We can remove one of each pair\n",
        "sns.heatmap(train.corr())"
      ],
      "execution_count": 361,
      "outputs": [
        {
          "output_type": "execute_result",
          "data": {
            "text/plain": [
              "<matplotlib.axes._subplots.AxesSubplot at 0x7f091f2fcc50>"
            ]
          },
          "metadata": {},
          "execution_count": 361
        },
        {
          "output_type": "display_data",
          "data": {
            "image/png": "[encoded data removed]",
            "text/plain": [
              "<Figure size 432x288 with 2 Axes>"
            ]
          },
          "metadata": {
            "needs_background": "light"
          }
        }
      ]
    },
    {
      "cell_type": "code",
      "metadata": {
        "id": "RaN9JFuKfdRO"
      },
      "source": [
        "train.drop(['client_id', 'car_type', 'home_address'], axis=1, inplace=True) #, 'first_time'\n",
        "removed_cols = ['home_address', 'client_id'] #, 'first_time'\n",
        "for column in removed_cols:\n",
        "  cat_cols.remove(column)\n",
        "bin_cols.remove('car_type')"
      ],
      "execution_count": 362,
      "outputs": []
    },
    {
      "cell_type": "code",
      "metadata": {
        "id": "ecB8p_kbNuKt"
      },
      "source": [
        "# Now we normalize num columns\n",
        "for column in num_cols:\n",
        "    train[column] = (train[column] - train[column].min())/(train[column].max() - train[column].min())"
      ],
      "execution_count": 363,
      "outputs": []
    },
    {
      "cell_type": "code",
      "metadata": {
        "id": "4rlnBDKzsPDA"
      },
      "source": [
        "# There are too many samples with default 0. Let's take equal parts with o and 1 from original dataset\n",
        "train1 = train[train.default == 1.0]\n",
        "train0 = train[train.default == 0.0].head(train1.shape[0])\n",
        "train = pd.concat([train0, train1])"
      ],
      "execution_count": 364,
      "outputs": []
    },
    {
      "cell_type": "code",
      "metadata": {
        "id": "lLsnvkvUnC8G"
      },
      "source": [
        "# Encode categorical columns\n",
        "X_cat = OneHotEncoder(sparse = False).fit_transform(train[cat_cols].values)"
      ],
      "execution_count": 365,
      "outputs": []
    },
    {
      "cell_type": "code",
      "metadata": {
        "id": "_66DheEPn_f9"
      },
      "source": [
        "X = np.hstack([train[num_cols], train[bin_cols].values, X_cat])\n",
        "Y = train['default'].values"
      ],
      "execution_count": 366,
      "outputs": []
    },
    {
      "cell_type": "code",
      "metadata": {
        "id": "tdDU86AkoFOG"
      },
      "source": [
        "X_train, X_test, y_train, y_test = train_test_split(X, Y, test_size=0.3, random_state=5)"
      ],
      "execution_count": 367,
      "outputs": []
    },
    {
      "cell_type": "code",
      "metadata": {
        "colab": {
          "base_uri": "https://localhost:8080/"
        },
        "id": "wnny6oM0oVqs",
        "outputId": "979907c1-88da-463d-ba84-e2e4d65ff702"
      },
      "source": [
        "mod = LogisticRegression(C=1, penalty='l1', max_iter=10000, solver='liblinear', tol=0.0001)\n",
        "mod.fit(X_train, y_train)"
      ],
      "execution_count": 368,
      "outputs": [
        {
          "output_type": "execute_result",
          "data": {
            "text/plain": [
              "LogisticRegression(C=1, class_weight=None, dual=False, fit_intercept=True,\n",
              "                   intercept_scaling=1, l1_ratio=None, max_iter=10000,\n",
              "                   multi_class='auto', n_jobs=None, penalty='l1',\n",
              "                   random_state=None, solver='liblinear', tol=0.0001, verbose=0,\n",
              "                   warm_start=False)"
            ]
          },
          "metadata": {},
          "execution_count": 368
        }
      ]
    },
    {
      "cell_type": "code",
      "metadata": {
        "colab": {
          "base_uri": "https://localhost:8080/",
          "height": 295
        },
        "id": "-YeGtdp_phnH",
        "outputId": "8a4599ea-6c81-48c7-eae4-605fd21630df"
      },
      "source": [
        "probs = mod.predict_proba(X_test)\n",
        "probs = probs[:,1]\n",
        "\n",
        "\n",
        "fpr, tpr, threshold = roc_curve(y_test, probs)\n",
        "roc_auc = roc_auc_score(y_test, probs)\n",
        "\n",
        "plt.figure()\n",
        "plt.plot([0, 1], label='Baseline', linestyle='--')\n",
        "plt.plot(fpr, tpr, label = 'Regression')\n",
        "plt.title('Logistic Regression ROC AUC = %0.8f' % roc_auc)\n",
        "plt.ylabel('True Positive Rate')\n",
        "plt.xlabel('False Positive Rate')\n",
        "plt.legend(loc = 'lower right')\n",
        "plt.show()"
      ],
      "execution_count": 369,
      "outputs": [
        {
          "output_type": "display_data",
          "data": {
            "image/png": "[encoded data removed]",
            "text/plain": [
              "<Figure size 432x288 with 1 Axes>"
            ]
          },
          "metadata": {
            "needs_background": "light"
          }
        }
      ]
    },
    {
      "cell_type": "code",
      "metadata": {
        "id": "twA_iCMgqvSP"
      },
      "source": [
        "y_pred = mod.predict(X_test)"
      ],
      "execution_count": 370,
      "outputs": []
    },
    {
      "cell_type": "code",
      "metadata": {
        "id": "mga6aj_apwf4"
      },
      "source": [
        "# from sklearn.model_selection import GridSearchCV\n",
        "\n",
        "# # Добавим типы регуляризации\n",
        "# penalty = ['l1', 'l2']\n",
        "\n",
        "# # Зададим ограничения для параметра регуляризации\n",
        "# C = np.logspace(1, 4, 10)\n",
        "\n",
        "# # Создадим гиперпараметры\n",
        "# hyperparameters = dict(C=C, penalty=penalty)\n",
        "\n",
        "# model = LogisticRegression(max_iter=10000, solver='liblinear')\n",
        "# model.fit(X_train, y_train)\n",
        "\n",
        "# # Создаем сетку поиска с использованием 5-кратной перекрестной проверки\n",
        "# clf = GridSearchCV(model, hyperparameters, cv=5, verbose=0)\n",
        "\n",
        "# best_model = clf.fit(X_train, y_train)\n",
        "\n",
        "# # View best hyperparameters\n",
        "# print('Лучшее Penalty:', best_model.best_estimator_.get_params()['penalty'])\n",
        "# print('Лучшее C:', best_model.best_estimator_.get_params()['C'])"
      ],
      "execution_count": 371,
      "outputs": []
    }
  ]
}